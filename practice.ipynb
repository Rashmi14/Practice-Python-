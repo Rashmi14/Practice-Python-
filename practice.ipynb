{
 "cells": [
  {
   "cell_type": "code",
   "execution_count": 1,
   "id": "af07bd75",
   "metadata": {},
   "outputs": [],
   "source": [
    "#Allow user to take input 0 or 1 10 times, if count is 0 or1, print even or odd"
   ]
  },
  {
   "cell_type": "code",
   "execution_count": null,
   "id": "afeca660",
   "metadata": {},
   "outputs": [],
   "source": [
    "a=int(input(\"Enter 0 or 1: \"))"
   ]
  },
  {
   "cell_type": "code",
   "execution_count": 1,
   "id": "c44b8114",
   "metadata": {},
   "outputs": [
    {
     "name": "stdout",
     "output_type": "stream",
     "text": [
      "Enter 0 or 1: 1\n",
      "Enter 0 or 1: 0\n",
      "Enter 0 or 1: 1\n",
      "Enter 0 or 1: 1\n",
      "Enter 0 or 1: 1\n",
      "Enter 0 or 1: 0\n",
      "Enter 0 or 1: 1\n",
      "Enter 0 or 1: 0\n",
      "Enter 0 or 1: 1\n",
      "Enter 0 or 1: 1\n"
     ]
    }
   ],
   "source": [
    "list_1=[]\n",
    "for i in range(10):\n",
    "    a=int(input(\"Enter 0 or 1: \"))\n",
    "    list_1.append(a)\n",
    "    "
   ]
  },
  {
   "cell_type": "code",
   "execution_count": 2,
   "id": "5f868a4c",
   "metadata": {},
   "outputs": [
    {
     "data": {
      "text/plain": [
       "[1, 0, 1, 1, 1, 0, 1, 0, 1, 1]"
      ]
     },
     "execution_count": 2,
     "metadata": {},
     "output_type": "execute_result"
    }
   ],
   "source": [
    "list_1"
   ]
  },
  {
   "cell_type": "code",
   "execution_count": 5,
   "id": "f10afdeb",
   "metadata": {},
   "outputs": [],
   "source": [
    "count=0\n",
    "for i in list_1:\n",
    "    if i == 0:\n",
    "        count=count+1"
   ]
  },
  {
   "cell_type": "code",
   "execution_count": 6,
   "id": "d90fc397",
   "metadata": {},
   "outputs": [
    {
     "data": {
      "text/plain": [
       "3"
      ]
     },
     "execution_count": 6,
     "metadata": {},
     "output_type": "execute_result"
    }
   ],
   "source": [
    "count"
   ]
  },
  {
   "cell_type": "code",
   "execution_count": 7,
   "id": "b39ada90",
   "metadata": {},
   "outputs": [
    {
     "name": "stdout",
     "output_type": "stream",
     "text": [
      "Odd Count\n"
     ]
    }
   ],
   "source": [
    "if count%2==0:\n",
    "    print(\"Even count\")\n",
    "else:\n",
    "    print(\"Odd Count\")"
   ]
  },
  {
   "cell_type": "code",
   "execution_count": null,
   "id": "e61de30a",
   "metadata": {},
   "outputs": [],
   "source": []
  }
 ],
 "metadata": {
  "kernelspec": {
   "display_name": "Python 3 (ipykernel)",
   "language": "python",
   "name": "python3"
  },
  "language_info": {
   "codemirror_mode": {
    "name": "ipython",
    "version": 3
   },
   "file_extension": ".py",
   "mimetype": "text/x-python",
   "name": "python",
   "nbconvert_exporter": "python",
   "pygments_lexer": "ipython3",
   "version": "3.10.9"
  }
 },
 "nbformat": 4,
 "nbformat_minor": 5
}
