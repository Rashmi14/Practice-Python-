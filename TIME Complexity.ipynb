{
 "cells": [
  {
   "cell_type": "code",
   "execution_count": 1,
   "id": "46e9bbda",
   "metadata": {},
   "outputs": [],
   "source": [
    "#Time Complexity"
   ]
  },
  {
   "cell_type": "code",
   "execution_count": 2,
   "id": "69809520",
   "metadata": {},
   "outputs": [
    {
     "name": "stdout",
     "output_type": "stream",
     "text": [
      "3\n"
     ]
    }
   ],
   "source": [
    "a=1\n",
    "b=2\n",
    "c=a+b\n",
    "print(c)"
   ]
  },
  {
   "cell_type": "code",
   "execution_count": 3,
   "id": "166e6cc3",
   "metadata": {},
   "outputs": [
    {
     "name": "stdout",
     "output_type": "stream",
     "text": [
      "3\n"
     ]
    }
   ],
   "source": [
    "a,b=1,2\n",
    "print(a+b)"
   ]
  },
  {
   "cell_type": "code",
   "execution_count": null,
   "id": "cc7a9f7f",
   "metadata": {},
   "outputs": [],
   "source": [
    "#to find largest number"
   ]
  },
  {
   "cell_type": "code",
   "execution_count": 1,
   "id": "424a3a34",
   "metadata": {},
   "outputs": [],
   "source": [
    "a=[1,2,3,4,5,6,99]#worst case Time complexity more"
   ]
  },
  {
   "cell_type": "code",
   "execution_count": 2,
   "id": "b802306a",
   "metadata": {},
   "outputs": [],
   "source": [
    "a=[99,1,2,3,4,5]#Best case-Time complexity less"
   ]
  },
  {
   "cell_type": "code",
   "execution_count": 3,
   "id": "7e34decc",
   "metadata": {},
   "outputs": [],
   "source": [
    "a=[1,2,3,4,99,5,6,7,8]#Avg case"
   ]
  },
  {
   "cell_type": "code",
   "execution_count": 4,
   "id": "09d338fa",
   "metadata": {},
   "outputs": [
    {
     "data": {
      "text/plain": [
       "1"
      ]
     },
     "execution_count": 4,
     "metadata": {},
     "output_type": "execute_result"
    }
   ],
   "source": [
    "a[0]#Constant complexityO(1)"
   ]
  },
  {
   "cell_type": "code",
   "execution_count": 1,
   "id": "4444e5ae",
   "metadata": {},
   "outputs": [],
   "source": [
    "#Constant Complexity  -If we change input time complexity remains same O(1)"
   ]
  },
  {
   "cell_type": "code",
   "execution_count": 2,
   "id": "ad6e9384",
   "metadata": {},
   "outputs": [],
   "source": [
    "a=1\n",
    "b=2\n",
    "if a>b:\n",
    "    print(\"Something\")"
   ]
  },
  {
   "cell_type": "code",
   "execution_count": 3,
   "id": "fbc86829",
   "metadata": {},
   "outputs": [],
   "source": [
    "a=11234\n",
    "b=21234\n",
    "if a>b:\n",
    "    print(\"Something\")"
   ]
  },
  {
   "cell_type": "code",
   "execution_count": 4,
   "id": "e957cbc2",
   "metadata": {},
   "outputs": [],
   "source": [
    "#Logarithmic Complexity-O(log(n)) using Binary search"
   ]
  },
  {
   "cell_type": "code",
   "execution_count": 5,
   "id": "080d774c",
   "metadata": {},
   "outputs": [],
   "source": [
    "#Linear Complexity- O(n) input increases ,time increases"
   ]
  },
  {
   "cell_type": "code",
   "execution_count": 6,
   "id": "9b18060f",
   "metadata": {},
   "outputs": [],
   "source": [
    "a=[1,2,3,4,99,5,6,7,8]"
   ]
  },
  {
   "cell_type": "code",
   "execution_count": 7,
   "id": "40aa7cd2",
   "metadata": {},
   "outputs": [
    {
     "data": {
      "text/plain": [
       "[1, 2, 3, 4, 99, 5, 6, 7, 8]"
      ]
     },
     "execution_count": 7,
     "metadata": {},
     "output_type": "execute_result"
    }
   ],
   "source": [
    "a"
   ]
  },
  {
   "cell_type": "code",
   "execution_count": 8,
   "id": "2b7654ae",
   "metadata": {},
   "outputs": [],
   "source": [
    "a=[1,2,3,4,99,5,6,7,8,88]"
   ]
  },
  {
   "cell_type": "code",
   "execution_count": 9,
   "id": "81413616",
   "metadata": {},
   "outputs": [
    {
     "data": {
      "text/plain": [
       "[1, 2, 3, 4, 99, 5, 6, 7, 8, 88]"
      ]
     },
     "execution_count": 9,
     "metadata": {},
     "output_type": "execute_result"
    }
   ],
   "source": [
    "a"
   ]
  },
  {
   "cell_type": "code",
   "execution_count": 14,
   "id": "9fb66a2d",
   "metadata": {},
   "outputs": [],
   "source": [
    "a=[1,2,3,4,99,5,6,7,8,88,67,100]"
   ]
  },
  {
   "cell_type": "code",
   "execution_count": 15,
   "id": "cc36342f",
   "metadata": {},
   "outputs": [
    {
     "name": "stdout",
     "output_type": "stream",
     "text": [
      "1\n",
      "2\n",
      "3\n",
      "4\n",
      "99\n",
      "5\n",
      "6\n",
      "7\n",
      "8\n",
      "88\n",
      "67\n",
      "100\n"
     ]
    }
   ],
   "source": [
    "for i in a:\n",
    "    print(i)"
   ]
  },
  {
   "cell_type": "code",
   "execution_count": 16,
   "id": "a9224a22",
   "metadata": {},
   "outputs": [],
   "source": [
    "#Exponential Time Complexity-O(2^n)"
   ]
  },
  {
   "cell_type": "code",
   "execution_count": 17,
   "id": "53303f9f",
   "metadata": {},
   "outputs": [],
   "source": [
    "#global, local variables"
   ]
  },
  {
   "cell_type": "code",
   "execution_count": 18,
   "id": "ab886250",
   "metadata": {},
   "outputs": [],
   "source": [
    "a=1"
   ]
  },
  {
   "cell_type": "code",
   "execution_count": 26,
   "id": "27c25d64",
   "metadata": {},
   "outputs": [],
   "source": [
    "def something():\n",
    "    g=10\n",
    "    print(g)\n",
    "    print(a)"
   ]
  },
  {
   "cell_type": "code",
   "execution_count": 27,
   "id": "b82b8a63",
   "metadata": {},
   "outputs": [
    {
     "data": {
      "text/plain": [
       "1"
      ]
     },
     "execution_count": 27,
     "metadata": {},
     "output_type": "execute_result"
    }
   ],
   "source": [
    "a"
   ]
  },
  {
   "cell_type": "code",
   "execution_count": 28,
   "id": "8460ec45",
   "metadata": {},
   "outputs": [
    {
     "ename": "NameError",
     "evalue": "name 'g' is not defined",
     "output_type": "error",
     "traceback": [
      "\u001b[1;31m---------------------------------------------------------------------------\u001b[0m",
      "\u001b[1;31mNameError\u001b[0m                                 Traceback (most recent call last)",
      "Cell \u001b[1;32mIn[28], line 1\u001b[0m\n\u001b[1;32m----> 1\u001b[0m \u001b[43mg\u001b[49m\n",
      "\u001b[1;31mNameError\u001b[0m: name 'g' is not defined"
     ]
    }
   ],
   "source": [
    "g# local variable, we need to call the function where it resides."
   ]
  },
  {
   "cell_type": "code",
   "execution_count": 29,
   "id": "a585d4c5",
   "metadata": {},
   "outputs": [
    {
     "name": "stdout",
     "output_type": "stream",
     "text": [
      "10\n",
      "1\n"
     ]
    }
   ],
   "source": [
    "something()"
   ]
  },
  {
   "cell_type": "code",
   "execution_count": null,
   "id": "036f9b40",
   "metadata": {},
   "outputs": [],
   "source": [
    "#Memory Management"
   ]
  },
  {
   "cell_type": "code",
   "execution_count": 4,
   "id": "8c1b779b",
   "metadata": {},
   "outputs": [],
   "source": [
    "a=2\n"
   ]
  },
  {
   "cell_type": "code",
   "execution_count": 7,
   "id": "ddd4488e",
   "metadata": {},
   "outputs": [],
   "source": [
    "b=a"
   ]
  },
  {
   "cell_type": "code",
   "execution_count": 8,
   "id": "b58aafeb",
   "metadata": {},
   "outputs": [
    {
     "data": {
      "text/plain": [
       "2"
      ]
     },
     "execution_count": 8,
     "metadata": {},
     "output_type": "execute_result"
    }
   ],
   "source": [
    "b"
   ]
  },
  {
   "cell_type": "code",
   "execution_count": 9,
   "id": "cbf58372",
   "metadata": {},
   "outputs": [],
   "source": [
    "f=[a]"
   ]
  },
  {
   "cell_type": "code",
   "execution_count": 10,
   "id": "026d8e54",
   "metadata": {},
   "outputs": [],
   "source": [
    "del f[0]"
   ]
  },
  {
   "cell_type": "code",
   "execution_count": null,
   "id": "cc05e315",
   "metadata": {},
   "outputs": [],
   "source": []
  }
 ],
 "metadata": {
  "kernelspec": {
   "display_name": "Python 3 (ipykernel)",
   "language": "python",
   "name": "python3"
  },
  "language_info": {
   "codemirror_mode": {
    "name": "ipython",
    "version": 3
   },
   "file_extension": ".py",
   "mimetype": "text/x-python",
   "name": "python",
   "nbconvert_exporter": "python",
   "pygments_lexer": "ipython3",
   "version": "3.10.9"
  }
 },
 "nbformat": 4,
 "nbformat_minor": 5
}
