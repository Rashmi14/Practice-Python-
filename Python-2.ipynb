{
 "cells": [
  {
   "cell_type": "code",
   "execution_count": 1,
   "id": "b690f475",
   "metadata": {},
   "outputs": [],
   "source": [
    "#Conditional statements"
   ]
  },
  {
   "cell_type": "code",
   "execution_count": 6,
   "id": "ccab34b1",
   "metadata": {},
   "outputs": [],
   "source": [
    "a=10"
   ]
  },
  {
   "cell_type": "code",
   "execution_count": 7,
   "id": "88ee0dee",
   "metadata": {},
   "outputs": [
    {
     "name": "stdout",
     "output_type": "stream",
     "text": [
      "a is less than 100\n"
     ]
    }
   ],
   "source": [
    "if a<100:\n",
    "    print(\"a is less than 100\")"
   ]
  },
  {
   "cell_type": "code",
   "execution_count": 8,
   "id": "27c103a5",
   "metadata": {},
   "outputs": [
    {
     "data": {
      "text/plain": [
       "True"
      ]
     },
     "execution_count": 8,
     "metadata": {},
     "output_type": "execute_result"
    }
   ],
   "source": [
    "a <100"
   ]
  },
  {
   "cell_type": "code",
   "execution_count": 14,
   "id": "25fdf203",
   "metadata": {},
   "outputs": [],
   "source": [
    "a=219"
   ]
  },
  {
   "cell_type": "code",
   "execution_count": 10,
   "id": "f7ecab4e",
   "metadata": {},
   "outputs": [],
   "source": [
    "if a<100:\n",
    "    print(\"a is less than 100\")"
   ]
  },
  {
   "cell_type": "code",
   "execution_count": 11,
   "id": "bb5da85c",
   "metadata": {},
   "outputs": [
    {
     "data": {
      "text/plain": [
       "False"
      ]
     },
     "execution_count": 11,
     "metadata": {},
     "output_type": "execute_result"
    }
   ],
   "source": [
    "a<100"
   ]
  },
  {
   "cell_type": "code",
   "execution_count": 12,
   "id": "b0996860",
   "metadata": {},
   "outputs": [
    {
     "name": "stdout",
     "output_type": "stream",
     "text": [
      "a is greater than 100\n"
     ]
    }
   ],
   "source": [
    "if a<100:\n",
    "    print(\"a is less than 100\")\n",
    "else:\n",
    "    print(\"a is greater than 100\")"
   ]
  },
  {
   "cell_type": "code",
   "execution_count": 15,
   "id": "3be1300f",
   "metadata": {},
   "outputs": [
    {
     "name": "stdout",
     "output_type": "stream",
     "text": [
      "the number is odd 219\n"
     ]
    }
   ],
   "source": [
    "if(a%2==0):\n",
    "    print(\"The number is even\",a)\n",
    "else:\n",
    "    print(\"the number is odd\",a)"
   ]
  },
  {
   "cell_type": "code",
   "execution_count": 41,
   "id": "07f433a5",
   "metadata": {},
   "outputs": [],
   "source": [
    "marks_scored= 70\n",
    "sub='English'"
   ]
  },
  {
   "cell_type": "code",
   "execution_count": 42,
   "id": "dfe68851",
   "metadata": {},
   "outputs": [
    {
     "name": "stdout",
     "output_type": "stream",
     "text": [
      "No practical\n"
     ]
    }
   ],
   "source": [
    "if sub =='Maths':\n",
    "    if(marks_scored>80):\n",
    "        print(\"Dist\")\n",
    "    elif marks_scored>60:\n",
    "        print(\"Ist class\")\n",
    "    elif marks_scored>40:\n",
    "        print(\"Pass\")\n",
    "    else:\n",
    "        print(\"Fail\")\n",
    "else:\n",
    "    print(\"No practical\")"
   ]
  },
  {
   "cell_type": "code",
   "execution_count": 6,
   "id": "7a3c089b",
   "metadata": {},
   "outputs": [],
   "source": [
    "g=[]"
   ]
  },
  {
   "cell_type": "code",
   "execution_count": 7,
   "id": "18863d0d",
   "metadata": {},
   "outputs": [
    {
     "data": {
      "text/plain": [
       "[]"
      ]
     },
     "execution_count": 7,
     "metadata": {},
     "output_type": "execute_result"
    }
   ],
   "source": [
    "g"
   ]
  },
  {
   "cell_type": "code",
   "execution_count": 8,
   "id": "bac4ac94",
   "metadata": {},
   "outputs": [
    {
     "name": "stdout",
     "output_type": "stream",
     "text": [
      "0\n",
      "1\n",
      "2\n",
      "3\n",
      "4\n",
      "5\n",
      "6\n",
      "7\n",
      "8\n",
      "9\n"
     ]
    }
   ],
   "source": [
    "for i in range(10):\n",
    "    print(i)\n",
    "    g.append(i)"
   ]
  },
  {
   "cell_type": "code",
   "execution_count": 1,
   "id": "f645fea2",
   "metadata": {},
   "outputs": [
    {
     "ename": "NameError",
     "evalue": "name 'g' is not defined",
     "output_type": "error",
     "traceback": [
      "\u001b[1;31m---------------------------------------------------------------------------\u001b[0m",
      "\u001b[1;31mNameError\u001b[0m                                 Traceback (most recent call last)",
      "Cell \u001b[1;32mIn[1], line 1\u001b[0m\n\u001b[1;32m----> 1\u001b[0m \u001b[43mg\u001b[49m\n",
      "\u001b[1;31mNameError\u001b[0m: name 'g' is not defined"
     ]
    }
   ],
   "source": [
    "g"
   ]
  },
  {
   "cell_type": "code",
   "execution_count": 2,
   "id": "1ab301f8",
   "metadata": {},
   "outputs": [
    {
     "ename": "NameError",
     "evalue": "name 'g' is not defined",
     "output_type": "error",
     "traceback": [
      "\u001b[1;31m---------------------------------------------------------------------------\u001b[0m",
      "\u001b[1;31mNameError\u001b[0m                                 Traceback (most recent call last)",
      "Cell \u001b[1;32mIn[2], line 1\u001b[0m\n\u001b[1;32m----> 1\u001b[0m \u001b[43mg\u001b[49m\n",
      "\u001b[1;31mNameError\u001b[0m: name 'g' is not defined"
     ]
    }
   ],
   "source": [
    "g"
   ]
  },
  {
   "cell_type": "code",
   "execution_count": 3,
   "id": "f3143582",
   "metadata": {},
   "outputs": [],
   "source": [
    "g=[1,2,3,4,5,6,7,8,9]"
   ]
  },
  {
   "cell_type": "code",
   "execution_count": 4,
   "id": "4d46d997",
   "metadata": {},
   "outputs": [],
   "source": [
    "even=[]\n",
    "odd=[]"
   ]
  },
  {
   "cell_type": "code",
   "execution_count": null,
   "id": "561de8c0",
   "metadata": {},
   "outputs": [],
   "source": []
  },
  {
   "cell_type": "code",
   "execution_count": 5,
   "id": "ef5655d4",
   "metadata": {},
   "outputs": [],
   "source": [
    "for i in g:\n",
    "    if i%2==0:\n",
    "        even.append(i)\n",
    "    else:\n",
    "        odd.append(i)"
   ]
  },
  {
   "cell_type": "code",
   "execution_count": 6,
   "id": "a8e8a039",
   "metadata": {},
   "outputs": [
    {
     "data": {
      "text/plain": [
       "[2, 4, 6, 8]"
      ]
     },
     "execution_count": 6,
     "metadata": {},
     "output_type": "execute_result"
    }
   ],
   "source": [
    "even"
   ]
  },
  {
   "cell_type": "code",
   "execution_count": 7,
   "id": "dd3577f1",
   "metadata": {},
   "outputs": [
    {
     "data": {
      "text/plain": [
       "[1, 3, 5, 7, 9]"
      ]
     },
     "execution_count": 7,
     "metadata": {},
     "output_type": "execute_result"
    }
   ],
   "source": [
    "odd"
   ]
  },
  {
   "cell_type": "code",
   "execution_count": 8,
   "id": "df0a22c6",
   "metadata": {},
   "outputs": [
    {
     "name": "stdout",
     "output_type": "stream",
     "text": [
      "3\n"
     ]
    }
   ],
   "source": [
    "a=1\n",
    "b=2\n",
    "c=a+b\n",
    "print(c)"
   ]
  },
  {
   "cell_type": "code",
   "execution_count": 9,
   "id": "90043751",
   "metadata": {},
   "outputs": [],
   "source": [
    "def add_1():\n",
    "    a=1\n",
    "    b=2\n",
    "    c=a+b\n",
    "    print(c)\n",
    "    "
   ]
  },
  {
   "cell_type": "code",
   "execution_count": 10,
   "id": "bab02dab",
   "metadata": {},
   "outputs": [
    {
     "data": {
      "text/plain": [
       "3"
      ]
     },
     "execution_count": 10,
     "metadata": {},
     "output_type": "execute_result"
    }
   ],
   "source": [
    "c"
   ]
  },
  {
   "cell_type": "code",
   "execution_count": 11,
   "id": "9d5762ce",
   "metadata": {},
   "outputs": [
    {
     "name": "stdout",
     "output_type": "stream",
     "text": [
      "3\n"
     ]
    }
   ],
   "source": [
    "add_1()"
   ]
  },
  {
   "cell_type": "code",
   "execution_count": 12,
   "id": "a9c999b0",
   "metadata": {},
   "outputs": [],
   "source": [
    "def add_1():\n",
    "    a=1\n",
    "    b=2\n",
    "    c=a+b\n",
    "    print(c)"
   ]
  },
  {
   "cell_type": "code",
   "execution_count": 13,
   "id": "db8b69f5",
   "metadata": {},
   "outputs": [
    {
     "name": "stdout",
     "output_type": "stream",
     "text": [
      "3\n"
     ]
    },
    {
     "ename": "TypeError",
     "evalue": "unsupported operand type(s) for +: 'NoneType' and 'int'",
     "output_type": "error",
     "traceback": [
      "\u001b[1;31m---------------------------------------------------------------------------\u001b[0m",
      "\u001b[1;31mTypeError\u001b[0m                                 Traceback (most recent call last)",
      "Cell \u001b[1;32mIn[13], line 1\u001b[0m\n\u001b[1;32m----> 1\u001b[0m \u001b[43madd_1\u001b[49m\u001b[43m(\u001b[49m\u001b[43m)\u001b[49m\u001b[43m \u001b[49m\u001b[38;5;241;43m+\u001b[39;49m\u001b[43m \u001b[49m\u001b[38;5;241;43m5\u001b[39;49m\n",
      "\u001b[1;31mTypeError\u001b[0m: unsupported operand type(s) for +: 'NoneType' and 'int'"
     ]
    }
   ],
   "source": [
    "add_1() + 5"
   ]
  },
  {
   "cell_type": "code",
   "execution_count": 14,
   "id": "7da27d70",
   "metadata": {},
   "outputs": [],
   "source": [
    "def add_2():\n",
    "    a=1\n",
    "    b=2\n",
    "    c=a+b\n",
    "    return(c)"
   ]
  },
  {
   "cell_type": "code",
   "execution_count": 15,
   "id": "c5d1140c",
   "metadata": {},
   "outputs": [
    {
     "data": {
      "text/plain": [
       "8"
      ]
     },
     "execution_count": 15,
     "metadata": {},
     "output_type": "execute_result"
    }
   ],
   "source": [
    "add_2()+5"
   ]
  },
  {
   "cell_type": "code",
   "execution_count": 16,
   "id": "61325e4d",
   "metadata": {},
   "outputs": [
    {
     "data": {
      "text/plain": [
       "3"
      ]
     },
     "execution_count": 16,
     "metadata": {},
     "output_type": "execute_result"
    }
   ],
   "source": [
    "add_2()"
   ]
  },
  {
   "cell_type": "code",
   "execution_count": 17,
   "id": "d708995e",
   "metadata": {},
   "outputs": [
    {
     "data": {
      "text/plain": [
       "8"
      ]
     },
     "execution_count": 17,
     "metadata": {},
     "output_type": "execute_result"
    }
   ],
   "source": [
    "a=1\n",
    "b=2\n",
    "c=a+b\n",
    "c+5"
   ]
  },
  {
   "cell_type": "code",
   "execution_count": 18,
   "id": "e3753d92",
   "metadata": {},
   "outputs": [
    {
     "name": "stdout",
     "output_type": "stream",
     "text": [
      "3\n"
     ]
    },
    {
     "ename": "TypeError",
     "evalue": "unsupported operand type(s) for +: 'NoneType' and 'int'",
     "output_type": "error",
     "traceback": [
      "\u001b[1;31m---------------------------------------------------------------------------\u001b[0m",
      "\u001b[1;31mTypeError\u001b[0m                                 Traceback (most recent call last)",
      "Cell \u001b[1;32mIn[18], line 4\u001b[0m\n\u001b[0;32m      2\u001b[0m b\u001b[38;5;241m=\u001b[39m\u001b[38;5;241m2\u001b[39m\n\u001b[0;32m      3\u001b[0m c\u001b[38;5;241m=\u001b[39ma\u001b[38;5;241m+\u001b[39mb\n\u001b[1;32m----> 4\u001b[0m \u001b[38;5;28;43mprint\u001b[39;49m\u001b[43m(\u001b[49m\u001b[43mc\u001b[49m\u001b[43m)\u001b[49m\u001b[38;5;241;43m+\u001b[39;49m\u001b[38;5;241;43m5\u001b[39;49m\n",
      "\u001b[1;31mTypeError\u001b[0m: unsupported operand type(s) for +: 'NoneType' and 'int'"
     ]
    }
   ],
   "source": [
    "a=1\n",
    "b=2\n",
    "c=a+b\n",
    "print(c)+5"
   ]
  },
  {
   "cell_type": "code",
   "execution_count": 19,
   "id": "1e14efd1",
   "metadata": {},
   "outputs": [
    {
     "name": "stdout",
     "output_type": "stream",
     "text": [
      "8\n"
     ]
    }
   ],
   "source": [
    "a=1\n",
    "b=2\n",
    "c=a+b\n",
    "print(c+5)"
   ]
  },
  {
   "cell_type": "code",
   "execution_count": 20,
   "id": "acf71036",
   "metadata": {},
   "outputs": [
    {
     "ename": "TypeError",
     "evalue": "can only concatenate str (not \"int\") to str",
     "output_type": "error",
     "traceback": [
      "\u001b[1;31m---------------------------------------------------------------------------\u001b[0m",
      "\u001b[1;31mTypeError\u001b[0m                                 Traceback (most recent call last)",
      "Cell \u001b[1;32mIn[20], line 1\u001b[0m\n\u001b[1;32m----> 1\u001b[0m \u001b[38;5;124;43m'\u001b[39;49m\u001b[38;5;124;43ma\u001b[39;49m\u001b[38;5;124;43m'\u001b[39;49m\u001b[38;5;241;43m+\u001b[39;49m\u001b[38;5;241;43m6\u001b[39;49m\n",
      "\u001b[1;31mTypeError\u001b[0m: can only concatenate str (not \"int\") to str"
     ]
    }
   ],
   "source": [
    "'a'+6"
   ]
  },
  {
   "cell_type": "code",
   "execution_count": 2,
   "id": "ff9af04b",
   "metadata": {},
   "outputs": [],
   "source": [
    " def add_3(a,b):\n",
    "    c=a+b\n",
    "    print(c)"
   ]
  },
  {
   "cell_type": "code",
   "execution_count": 3,
   "id": "a42669dd",
   "metadata": {},
   "outputs": [
    {
     "ename": "TypeError",
     "evalue": "add_3() missing 2 required positional arguments: 'a' and 'b'",
     "output_type": "error",
     "traceback": [
      "\u001b[1;31m---------------------------------------------------------------------------\u001b[0m",
      "\u001b[1;31mTypeError\u001b[0m                                 Traceback (most recent call last)",
      "Cell \u001b[1;32mIn[3], line 1\u001b[0m\n\u001b[1;32m----> 1\u001b[0m \u001b[43madd_3\u001b[49m\u001b[43m(\u001b[49m\u001b[43m)\u001b[49m\n",
      "\u001b[1;31mTypeError\u001b[0m: add_3() missing 2 required positional arguments: 'a' and 'b'"
     ]
    }
   ],
   "source": [
    "add_3()"
   ]
  },
  {
   "cell_type": "code",
   "execution_count": 4,
   "id": "d948e54e",
   "metadata": {},
   "outputs": [
    {
     "name": "stdout",
     "output_type": "stream",
     "text": [
      "15\n"
     ]
    }
   ],
   "source": [
    "add_3(7,8)"
   ]
  },
  {
   "cell_type": "code",
   "execution_count": 5,
   "id": "fab6198f",
   "metadata": {},
   "outputs": [],
   "source": [
    "def add_4(a):\n",
    "    b=10\n",
    "    c=a+b\n",
    "    print(c)"
   ]
  },
  {
   "cell_type": "code",
   "execution_count": 6,
   "id": "c0934b0c",
   "metadata": {},
   "outputs": [
    {
     "name": "stdout",
     "output_type": "stream",
     "text": [
      "15\n"
     ]
    }
   ],
   "source": [
    "add_4(5)"
   ]
  },
  {
   "cell_type": "code",
   "execution_count": 7,
   "id": "8f94cdca",
   "metadata": {},
   "outputs": [
    {
     "ename": "TypeError",
     "evalue": "add_4() takes 1 positional argument but 2 were given",
     "output_type": "error",
     "traceback": [
      "\u001b[1;31m---------------------------------------------------------------------------\u001b[0m",
      "\u001b[1;31mTypeError\u001b[0m                                 Traceback (most recent call last)",
      "Cell \u001b[1;32mIn[7], line 1\u001b[0m\n\u001b[1;32m----> 1\u001b[0m \u001b[43madd_4\u001b[49m\u001b[43m(\u001b[49m\u001b[38;5;241;43m4\u001b[39;49m\u001b[43m,\u001b[49m\u001b[38;5;241;43m5\u001b[39;49m\u001b[43m)\u001b[49m\n",
      "\u001b[1;31mTypeError\u001b[0m: add_4() takes 1 positional argument but 2 were given"
     ]
    }
   ],
   "source": [
    "add_4(4,5)"
   ]
  },
  {
   "cell_type": "code",
   "execution_count": 10,
   "id": "a288d731",
   "metadata": {},
   "outputs": [],
   "source": [
    "def add_5(a=5, b=3):\n",
    "    c=a+b\n",
    "    print(c)"
   ]
  },
  {
   "cell_type": "code",
   "execution_count": 11,
   "id": "e844dbe5",
   "metadata": {},
   "outputs": [
    {
     "name": "stdout",
     "output_type": "stream",
     "text": [
      "8\n"
     ]
    }
   ],
   "source": [
    "add_5()"
   ]
  },
  {
   "cell_type": "code",
   "execution_count": 12,
   "id": "5e897cc2",
   "metadata": {},
   "outputs": [
    {
     "name": "stdout",
     "output_type": "stream",
     "text": [
      "4\n"
     ]
    }
   ],
   "source": [
    "add_5(1)"
   ]
  },
  {
   "cell_type": "code",
   "execution_count": 13,
   "id": "51e57d99",
   "metadata": {},
   "outputs": [
    {
     "name": "stdout",
     "output_type": "stream",
     "text": [
      "7\n"
     ]
    }
   ],
   "source": [
    "add_5(4)"
   ]
  },
  {
   "cell_type": "code",
   "execution_count": 14,
   "id": "06f9961f",
   "metadata": {},
   "outputs": [
    {
     "name": "stdout",
     "output_type": "stream",
     "text": [
      "13\n"
     ]
    }
   ],
   "source": [
    "add_5(10)#taking the argument value of a "
   ]
  },
  {
   "cell_type": "code",
   "execution_count": 16,
   "id": "a9755741",
   "metadata": {},
   "outputs": [
    {
     "name": "stdout",
     "output_type": "stream",
     "text": [
      "6\n"
     ]
    }
   ],
   "source": [
    "add_5(b=1)"
   ]
  },
  {
   "cell_type": "code",
   "execution_count": 17,
   "id": "acf8a5b6",
   "metadata": {},
   "outputs": [
    {
     "name": "stdout",
     "output_type": "stream",
     "text": [
      "9\n"
     ]
    }
   ],
   "source": [
    "add_5(b=4)"
   ]
  },
  {
   "cell_type": "code",
   "execution_count": 18,
   "id": "7e9916ab",
   "metadata": {},
   "outputs": [
    {
     "name": "stdout",
     "output_type": "stream",
     "text": [
      "9\n"
     ]
    }
   ],
   "source": [
    "add_5(b=4, a=5)"
   ]
  },
  {
   "cell_type": "code",
   "execution_count": 1,
   "id": "981bf6dd",
   "metadata": {},
   "outputs": [
    {
     "name": "stdout",
     "output_type": "stream",
     "text": [
      "Hi, Rashmi how are you doing?\n"
     ]
    }
   ],
   "source": [
    "fp=open('a.txt',\"r\")# File a.txt and this file should be in the same folder.\n",
    "print(fp.read())\n",
    "fp.close()"
   ]
  },
  {
   "cell_type": "code",
   "execution_count": 2,
   "id": "de7d4c4b",
   "metadata": {},
   "outputs": [
    {
     "name": "stdout",
     "output_type": "stream",
     "text": [
      "Hi, Rashmi how are you doing?\n"
     ]
    }
   ],
   "source": [
    "fp=open('C:\\\\Users\\\\dell\\\\Desktop\\\\Guvi DS lessons\\\\File Handling\\\\new\\\\b.txt',\"r\")# File a.txt and this file in different folder write location of text file.\n",
    "print(fp.read())\n",
    "fp.close()\n"
   ]
  },
  {
   "cell_type": "code",
   "execution_count": 4,
   "id": "01c1cd0b",
   "metadata": {},
   "outputs": [],
   "source": [
    "write = \"I'm doing well, what about you?\""
   ]
  },
  {
   "cell_type": "code",
   "execution_count": 5,
   "id": "4ba61635",
   "metadata": {},
   "outputs": [
    {
     "data": {
      "text/plain": [
       "\"I'm doing well, what about you?\""
      ]
     },
     "execution_count": 5,
     "metadata": {},
     "output_type": "execute_result"
    }
   ],
   "source": [
    "write"
   ]
  },
  {
   "cell_type": "code",
   "execution_count": 6,
   "id": "6161615b",
   "metadata": {},
   "outputs": [],
   "source": [
    "fp=open('C:\\\\Users\\\\dell\\\\Desktop\\\\Guvi DS lessons\\\\File Handling\\\\new\\\\c.txt',\"w\")\n",
    "fp.write(write)\n",
    "fp.close()"
   ]
  },
  {
   "cell_type": "code",
   "execution_count": 9,
   "id": "09bd60dc",
   "metadata": {},
   "outputs": [],
   "source": [
    "write_1=\"Tell me about your day.\"\n",
    "fp=open('C:\\\\Users\\\\dell\\\\Desktop\\\\Guvi DS lessons\\\\File Handling\\\\new\\\\c.txt',\"a\")#append to existing file.\n",
    "fp.write(write_1)\n",
    "fp.close()"
   ]
  },
  {
   "cell_type": "code",
   "execution_count": 11,
   "id": "4647099b",
   "metadata": {},
   "outputs": [],
   "source": [
    "write_1=\"Monday \"\n",
    "fp=open('C:\\\\Users\\\\dell\\\\Desktop\\\\Guvi DS lessons\\\\File Handling\\\\new\\\\b.txt',\"a\")#append to existing file.\n",
    "fp.write(write_1)\n",
    "fp.close()"
   ]
  },
  {
   "cell_type": "code",
   "execution_count": 12,
   "id": "78351244",
   "metadata": {},
   "outputs": [],
   "source": [
    "write_1=\"Monday \"\n",
    "fp=open('C:\\\\Users\\\\dell\\\\Desktop\\\\Guvi DS lessons\\\\File Handling\\\\new\\\\a.txt',\"a\")#append to existing file.\n",
    "fp.write(write_1)\n",
    "fp.close()"
   ]
  },
  {
   "cell_type": "code",
   "execution_count": 13,
   "id": "98f9084d",
   "metadata": {},
   "outputs": [],
   "source": [
    "import os\n",
    "os.remove('C:\\\\Users\\\\dell\\\\Desktop\\\\Guvi DS lessons\\\\File Handling\\\\new\\\\a.txt')"
   ]
  },
  {
   "cell_type": "code",
   "execution_count": 1,
   "id": "5290cc80",
   "metadata": {},
   "outputs": [],
   "source": [
    "#class and objects"
   ]
  },
  {
   "cell_type": "code",
   "execution_count": 5,
   "id": "d82f5d26",
   "metadata": {},
   "outputs": [],
   "source": [
    "class Person:\n",
    "    def __init__(self,name,gender,age,proff):\n",
    "        self.name=name\n",
    "        self.gender=gender\n",
    "        self.age=age\n",
    "        self.proff=proff\n",
    "        \n",
    "    def show(self):\n",
    "        print(\"Name: \",self.name)\n",
    "        print(\"Gender: \",self.gender)\n",
    "        print(\"Age: \", self.age)\n",
    "        \n",
    "    def work(self):\n",
    "        print(\"Work: \",self.proff)\n",
    "    "
   ]
  },
  {
   "cell_type": "code",
   "execution_count": 6,
   "id": "a2fdff52",
   "metadata": {},
   "outputs": [
    {
     "data": {
      "text/plain": [
       "__main__.Person"
      ]
     },
     "execution_count": 6,
     "metadata": {},
     "output_type": "execute_result"
    }
   ],
   "source": [
    "Person"
   ]
  },
  {
   "cell_type": "code",
   "execution_count": 7,
   "id": "6532004d",
   "metadata": {},
   "outputs": [],
   "source": [
    "Virat=Person(\"Virat\",\"Male\",35, \"Cricketer\")"
   ]
  },
  {
   "cell_type": "code",
   "execution_count": 8,
   "id": "c098dc3a",
   "metadata": {},
   "outputs": [
    {
     "data": {
      "text/plain": [
       "<__main__.Person at 0x133fef66380>"
      ]
     },
     "execution_count": 8,
     "metadata": {},
     "output_type": "execute_result"
    }
   ],
   "source": [
    "Virat"
   ]
  },
  {
   "cell_type": "code",
   "execution_count": 9,
   "id": "fa24804f",
   "metadata": {},
   "outputs": [
    {
     "ename": "NameError",
     "evalue": "name 'self' is not defined",
     "output_type": "error",
     "traceback": [
      "\u001b[1;31m---------------------------------------------------------------------------\u001b[0m",
      "\u001b[1;31mNameError\u001b[0m                                 Traceback (most recent call last)",
      "Cell \u001b[1;32mIn[9], line 1\u001b[0m\n\u001b[1;32m----> 1\u001b[0m \u001b[38;5;28;43mself\u001b[39;49m\u001b[38;5;241m.\u001b[39mVirat\n",
      "\u001b[1;31mNameError\u001b[0m: name 'self' is not defined"
     ]
    }
   ],
   "source": [
    "self.Virat"
   ]
  },
  {
   "cell_type": "code",
   "execution_count": 10,
   "id": "08199597",
   "metadata": {},
   "outputs": [
    {
     "ename": "AttributeError",
     "evalue": "'Person' object has no attribute 'self'",
     "output_type": "error",
     "traceback": [
      "\u001b[1;31m---------------------------------------------------------------------------\u001b[0m",
      "\u001b[1;31mAttributeError\u001b[0m                            Traceback (most recent call last)",
      "Cell \u001b[1;32mIn[10], line 1\u001b[0m\n\u001b[1;32m----> 1\u001b[0m \u001b[43mVirat\u001b[49m\u001b[38;5;241;43m.\u001b[39;49m\u001b[43mself\u001b[49m\n",
      "\u001b[1;31mAttributeError\u001b[0m: 'Person' object has no attribute 'self'"
     ]
    }
   ],
   "source": [
    "Virat.self"
   ]
  },
  {
   "cell_type": "code",
   "execution_count": 11,
   "id": "6beef6b1",
   "metadata": {},
   "outputs": [
    {
     "name": "stdout",
     "output_type": "stream",
     "text": [
      "Name:  Virat\n",
      "Gender:  Male\n",
      "Age:  35\n"
     ]
    }
   ],
   "source": [
    "Virat.show()"
   ]
  },
  {
   "cell_type": "code",
   "execution_count": 12,
   "id": "39bc9994",
   "metadata": {},
   "outputs": [
    {
     "name": "stdout",
     "output_type": "stream",
     "text": [
      "Work:  Cricketer\n"
     ]
    }
   ],
   "source": [
    "Virat.work()"
   ]
  },
  {
   "cell_type": "code",
   "execution_count": 16,
   "id": "849ba984",
   "metadata": {},
   "outputs": [],
   "source": [
    "Rashmi= Person(\"Rashmi\",\"Female\",27,\"Data Scientist\")"
   ]
  },
  {
   "cell_type": "code",
   "execution_count": 17,
   "id": "96c994ad",
   "metadata": {},
   "outputs": [
    {
     "data": {
      "text/plain": [
       "<__main__.Person at 0x133fef40730>"
      ]
     },
     "execution_count": 17,
     "metadata": {},
     "output_type": "execute_result"
    }
   ],
   "source": [
    "Rashmi"
   ]
  },
  {
   "cell_type": "code",
   "execution_count": 18,
   "id": "d392d0fe",
   "metadata": {},
   "outputs": [
    {
     "name": "stdout",
     "output_type": "stream",
     "text": [
      "Name:  Rashmi\n",
      "Gender:  Female\n",
      "Age:  27\n"
     ]
    }
   ],
   "source": [
    "Rashmi.show()"
   ]
  },
  {
   "cell_type": "code",
   "execution_count": 20,
   "id": "04e021fe",
   "metadata": {},
   "outputs": [
    {
     "name": "stdout",
     "output_type": "stream",
     "text": [
      "Work:  Data Scientist\n"
     ]
    }
   ],
   "source": [
    "Rashmi.work()"
   ]
  },
  {
   "cell_type": "code",
   "execution_count": 21,
   "id": "7b90bd80",
   "metadata": {},
   "outputs": [],
   "source": [
    "#lambda function"
   ]
  },
  {
   "cell_type": "code",
   "execution_count": 22,
   "id": "01aacdbe",
   "metadata": {},
   "outputs": [],
   "source": [
    "def add_6(a,b):\n",
    "    c=a+b\n",
    "    print(c)"
   ]
  },
  {
   "cell_type": "code",
   "execution_count": 23,
   "id": "c9c84ef6",
   "metadata": {},
   "outputs": [
    {
     "name": "stdout",
     "output_type": "stream",
     "text": [
      "3\n"
     ]
    }
   ],
   "source": [
    "add_6(1,2)"
   ]
  },
  {
   "cell_type": "code",
   "execution_count": 27,
   "id": "f6ec6206",
   "metadata": {},
   "outputs": [],
   "source": [
    "x=lambda a,b:a+b #with lambda(anonymous function) we just wrote the code in 1 line"
   ]
  },
  {
   "cell_type": "code",
   "execution_count": 28,
   "id": "200334e4",
   "metadata": {},
   "outputs": [
    {
     "data": {
      "text/plain": [
       "6"
      ]
     },
     "execution_count": 28,
     "metadata": {},
     "output_type": "execute_result"
    }
   ],
   "source": [
    "x(1,5)"
   ]
  },
  {
   "cell_type": "code",
   "execution_count": 29,
   "id": "c322b61d",
   "metadata": {},
   "outputs": [],
   "source": [
    "#map reduce filter"
   ]
  },
  {
   "cell_type": "code",
   "execution_count": 30,
   "id": "a6c179eb",
   "metadata": {},
   "outputs": [],
   "source": [
    "#map is n to n functions, number of elements in input output same"
   ]
  },
  {
   "cell_type": "code",
   "execution_count": 31,
   "id": "9cecb60c",
   "metadata": {},
   "outputs": [],
   "source": [
    "a=[\"rashmi\",\"shaurya\",\"divya\"]"
   ]
  },
  {
   "cell_type": "code",
   "execution_count": 32,
   "id": "70e9c406",
   "metadata": {},
   "outputs": [],
   "source": [
    "map_1=map(str.upper,a)"
   ]
  },
  {
   "cell_type": "code",
   "execution_count": 35,
   "id": "1024358c",
   "metadata": {},
   "outputs": [
    {
     "data": {
      "text/plain": [
       "['RASHMI', 'SHAURYA', 'DIVYA']"
      ]
     },
     "execution_count": 35,
     "metadata": {},
     "output_type": "execute_result"
    }
   ],
   "source": [
    "list(map_1)"
   ]
  },
  {
   "cell_type": "code",
   "execution_count": 36,
   "id": "faeb329c",
   "metadata": {},
   "outputs": [],
   "source": [
    "b=[\"Rashmi\",\"Shaurya\",\"Divya\"]"
   ]
  },
  {
   "cell_type": "code",
   "execution_count": 37,
   "id": "ae9abaef",
   "metadata": {},
   "outputs": [],
   "source": [
    "map_2=map(str.upper,b)"
   ]
  },
  {
   "cell_type": "code",
   "execution_count": 38,
   "id": "46728e3c",
   "metadata": {},
   "outputs": [
    {
     "data": {
      "text/plain": [
       "['RASHMI', 'SHAURYA', 'DIVYA']"
      ]
     },
     "execution_count": 38,
     "metadata": {},
     "output_type": "execute_result"
    }
   ],
   "source": [
    "list(map_2)"
   ]
  },
  {
   "cell_type": "code",
   "execution_count": 39,
   "id": "2ef19ddf",
   "metadata": {},
   "outputs": [],
   "source": [
    "map_3=map(str.lower,b)"
   ]
  },
  {
   "cell_type": "code",
   "execution_count": 40,
   "id": "d9429c71",
   "metadata": {},
   "outputs": [
    {
     "data": {
      "text/plain": [
       "['rashmi', 'shaurya', 'divya']"
      ]
     },
     "execution_count": 40,
     "metadata": {},
     "output_type": "execute_result"
    }
   ],
   "source": [
    "list(map_3)"
   ]
  },
  {
   "cell_type": "code",
   "execution_count": 41,
   "id": "ff323a51",
   "metadata": {},
   "outputs": [],
   "source": [
    "def count_1(x):\n",
    "    return len(list(x))"
   ]
  },
  {
   "cell_type": "code",
   "execution_count": 42,
   "id": "17f548b0",
   "metadata": {},
   "outputs": [],
   "source": [
    "map_4=map(count_1,a)"
   ]
  },
  {
   "cell_type": "code",
   "execution_count": 43,
   "id": "0a4e24fc",
   "metadata": {},
   "outputs": [
    {
     "data": {
      "text/plain": [
       "[6, 7, 5]"
      ]
     },
     "execution_count": 43,
     "metadata": {},
     "output_type": "execute_result"
    }
   ],
   "source": [
    "list(map_4)"
   ]
  },
  {
   "cell_type": "code",
   "execution_count": 44,
   "id": "8795bf8b",
   "metadata": {},
   "outputs": [],
   "source": [
    "#filter n to m , where n>=m"
   ]
  },
  {
   "cell_type": "code",
   "execution_count": 45,
   "id": "0c49a9e6",
   "metadata": {},
   "outputs": [],
   "source": [
    "c=[\"sachin\",\"dravid\",\"kohli\"]"
   ]
  },
  {
   "cell_type": "code",
   "execution_count": 46,
   "id": "9469ecce",
   "metadata": {},
   "outputs": [],
   "source": [
    "def filter_out(x):\n",
    "    return 'a' in x"
   ]
  },
  {
   "cell_type": "code",
   "execution_count": 47,
   "id": "deb1ccb3",
   "metadata": {},
   "outputs": [],
   "source": [
    "filter_1=filter(filter_out,c)"
   ]
  },
  {
   "cell_type": "code",
   "execution_count": 48,
   "id": "e31d5ab6",
   "metadata": {},
   "outputs": [
    {
     "data": {
      "text/plain": [
       "['sachin', 'dravid']"
      ]
     },
     "execution_count": 48,
     "metadata": {},
     "output_type": "execute_result"
    }
   ],
   "source": [
    "list(filter_1)"
   ]
  },
  {
   "cell_type": "code",
   "execution_count": 50,
   "id": "917b58a3",
   "metadata": {},
   "outputs": [
    {
     "data": {
      "text/plain": [
       "True"
      ]
     },
     "execution_count": 50,
     "metadata": {},
     "output_type": "execute_result"
    }
   ],
   "source": [
    "'a' in 'sachin'"
   ]
  },
  {
   "cell_type": "code",
   "execution_count": 51,
   "id": "579e0e1c",
   "metadata": {},
   "outputs": [
    {
     "data": {
      "text/plain": [
       "True"
      ]
     },
     "execution_count": 51,
     "metadata": {},
     "output_type": "execute_result"
    }
   ],
   "source": [
    "'a' in 'dravid'"
   ]
  },
  {
   "cell_type": "code",
   "execution_count": 52,
   "id": "e550b0d6",
   "metadata": {},
   "outputs": [
    {
     "data": {
      "text/plain": [
       "False"
      ]
     },
     "execution_count": 52,
     "metadata": {},
     "output_type": "execute_result"
    }
   ],
   "source": [
    "'a' in 'kohli'"
   ]
  },
  {
   "cell_type": "code",
   "execution_count": 53,
   "id": "f664ffc0",
   "metadata": {},
   "outputs": [],
   "source": [
    "v=lambda x:x%2==0"
   ]
  },
  {
   "cell_type": "code",
   "execution_count": 54,
   "id": "83533611",
   "metadata": {},
   "outputs": [
    {
     "data": {
      "text/plain": [
       "True"
      ]
     },
     "execution_count": 54,
     "metadata": {},
     "output_type": "execute_result"
    }
   ],
   "source": [
    "v(16)"
   ]
  },
  {
   "cell_type": "code",
   "execution_count": 55,
   "id": "53652aa7",
   "metadata": {},
   "outputs": [
    {
     "data": {
      "text/plain": [
       "False"
      ]
     },
     "execution_count": 55,
     "metadata": {},
     "output_type": "execute_result"
    }
   ],
   "source": [
    "v(15)"
   ]
  },
  {
   "cell_type": "code",
   "execution_count": 56,
   "id": "ac8520b4",
   "metadata": {},
   "outputs": [],
   "source": [
    "a=[1,2,3,4,5]"
   ]
  },
  {
   "cell_type": "code",
   "execution_count": 58,
   "id": "526dc007",
   "metadata": {},
   "outputs": [],
   "source": [
    "filter_1=filter(lambda x:x%2==0,a)"
   ]
  },
  {
   "cell_type": "code",
   "execution_count": 59,
   "id": "7cf1bcfc",
   "metadata": {},
   "outputs": [
    {
     "data": {
      "text/plain": [
       "[2, 4]"
      ]
     },
     "execution_count": 59,
     "metadata": {},
     "output_type": "execute_result"
    }
   ],
   "source": [
    "list(filter_1)"
   ]
  },
  {
   "cell_type": "code",
   "execution_count": 60,
   "id": "4fd7c448",
   "metadata": {},
   "outputs": [],
   "source": [
    "filter_2=filter(lambda x:x%2!=0,a)"
   ]
  },
  {
   "cell_type": "code",
   "execution_count": 61,
   "id": "3e528677",
   "metadata": {},
   "outputs": [
    {
     "data": {
      "text/plain": [
       "[1, 3, 5]"
      ]
     },
     "execution_count": 61,
     "metadata": {},
     "output_type": "execute_result"
    }
   ],
   "source": [
    "list(filter_2)"
   ]
  },
  {
   "cell_type": "code",
   "execution_count": 62,
   "id": "e34a1a10",
   "metadata": {},
   "outputs": [],
   "source": [
    "#reduce"
   ]
  },
  {
   "cell_type": "code",
   "execution_count": 63,
   "id": "a68a1fcc",
   "metadata": {},
   "outputs": [],
   "source": [
    "from functools import reduce"
   ]
  },
  {
   "cell_type": "code",
   "execution_count": 68,
   "id": "f6438b18",
   "metadata": {},
   "outputs": [],
   "source": [
    "reduce_1= reduce(lambda x,y:x+y, a)"
   ]
  },
  {
   "cell_type": "code",
   "execution_count": 69,
   "id": "be2359d2",
   "metadata": {},
   "outputs": [
    {
     "data": {
      "text/plain": [
       "15"
      ]
     },
     "execution_count": 69,
     "metadata": {},
     "output_type": "execute_result"
    }
   ],
   "source": [
    "reduce_1"
   ]
  },
  {
   "cell_type": "code",
   "execution_count": 70,
   "id": "65991e37",
   "metadata": {},
   "outputs": [],
   "source": [
    "#regex"
   ]
  },
  {
   "cell_type": "code",
   "execution_count": 71,
   "id": "d61f0ccf",
   "metadata": {},
   "outputs": [],
   "source": [
    "import re"
   ]
  },
  {
   "cell_type": "code",
   "execution_count": 72,
   "id": "11fb9cc5",
   "metadata": {},
   "outputs": [],
   "source": [
    "to_search='Rashmi'"
   ]
  },
  {
   "cell_type": "code",
   "execution_count": 78,
   "id": "7f1dce0a",
   "metadata": {},
   "outputs": [],
   "source": [
    "in_word=\"Rashmi has done her Integrated Masters in Applied Mathematics. Rashmi studied at NIT Surat.\""
   ]
  },
  {
   "cell_type": "code",
   "execution_count": 81,
   "id": "e958df3c",
   "metadata": {},
   "outputs": [
    {
     "name": "stdout",
     "output_type": "stream",
     "text": [
      "['Rashmi', 'Rashmi']\n"
     ]
    }
   ],
   "source": [
    "print(re.findall(to_search,in_word))"
   ]
  },
  {
   "cell_type": "code",
   "execution_count": 82,
   "id": "539c5ba5",
   "metadata": {},
   "outputs": [
    {
     "name": "stdout",
     "output_type": "stream",
     "text": [
      "2\n"
     ]
    }
   ],
   "source": [
    "print(len(re.findall(to_search,in_word)))"
   ]
  },
  {
   "cell_type": "code",
   "execution_count": 83,
   "id": "ecd6bbbc",
   "metadata": {},
   "outputs": [],
   "source": [
    "in_word_1= \"Rashmi lives i flat number 2, 4th street\""
   ]
  },
  {
   "cell_type": "code",
   "execution_count": 85,
   "id": "451b3174",
   "metadata": {},
   "outputs": [
    {
     "name": "stdout",
     "output_type": "stream",
     "text": [
      "['2', '4']\n"
     ]
    }
   ],
   "source": [
    "print(re.findall('\\d',in_word_1))"
   ]
  },
  {
   "cell_type": "code",
   "execution_count": 104,
   "id": "8aaf4e2a",
   "metadata": {},
   "outputs": [],
   "source": [
    "in_word_2= \"Rashmi lives i flat number 2, 233rd street. !!!!\""
   ]
  },
  {
   "cell_type": "code",
   "execution_count": 105,
   "id": "4faf3105",
   "metadata": {},
   "outputs": [
    {
     "name": "stdout",
     "output_type": "stream",
     "text": [
      "['2', '2', '3', '3']\n"
     ]
    }
   ],
   "source": [
    "print(re.findall('\\d',in_word_2))"
   ]
  },
  {
   "cell_type": "code",
   "execution_count": 106,
   "id": "1c2f66b4",
   "metadata": {},
   "outputs": [
    {
     "name": "stdout",
     "output_type": "stream",
     "text": [
      "['233']\n"
     ]
    }
   ],
   "source": [
    "print(re.findall('\\d\\d\\d',in_word_2))#to avoid splitting of numbers"
   ]
  },
  {
   "cell_type": "code",
   "execution_count": 107,
   "id": "85028307",
   "metadata": {},
   "outputs": [
    {
     "name": "stdout",
     "output_type": "stream",
     "text": [
      "['2', '233']\n"
     ]
    }
   ],
   "source": [
    "print(re.findall('\\d+',in_word_2))"
   ]
  },
  {
   "cell_type": "code",
   "execution_count": 108,
   "id": "8ed89052",
   "metadata": {},
   "outputs": [
    {
     "name": "stdout",
     "output_type": "stream",
     "text": [
      "['R', 'a', 's', 'h', 'm', 'i', 'l', 'i', 'v', 'e', 's', 'i', 'f', 'l', 'a', 't', 'n', 'u', 'm', 'b', 'e', 'r', '2', '4', 't', 'h', 's', 't', 'r', 'e', 'e', 't']\n"
     ]
    }
   ],
   "source": [
    "print(re.findall('\\w',in_word_1))"
   ]
  },
  {
   "cell_type": "code",
   "execution_count": 109,
   "id": "3e1f5b6b",
   "metadata": {},
   "outputs": [
    {
     "name": "stdout",
     "output_type": "stream",
     "text": [
      "['Rashmi', 'lives', 'i', 'flat', 'number', '2', '4th', 'street']\n"
     ]
    }
   ],
   "source": [
    "print(re.findall('\\w+',in_word_1))"
   ]
  },
  {
   "cell_type": "code",
   "execution_count": 111,
   "id": "2dd4d305",
   "metadata": {},
   "outputs": [
    {
     "name": "stdout",
     "output_type": "stream",
     "text": [
      "<re.Match object; span=(0, 6), match='Rashmi'>\n"
     ]
    }
   ],
   "source": [
    "print(re.search(to_search,in_word))"
   ]
  },
  {
   "cell_type": "code",
   "execution_count": 112,
   "id": "e1295f3d",
   "metadata": {},
   "outputs": [],
   "source": [
    "#iterations"
   ]
  },
  {
   "cell_type": "code",
   "execution_count": 113,
   "id": "e2a46b2b",
   "metadata": {},
   "outputs": [],
   "source": [
    "a=[1,2,3,4,5,6]"
   ]
  },
  {
   "cell_type": "code",
   "execution_count": 114,
   "id": "c70f704a",
   "metadata": {},
   "outputs": [
    {
     "name": "stdout",
     "output_type": "stream",
     "text": [
      "1\n",
      "2\n",
      "3\n",
      "4\n",
      "5\n",
      "6\n"
     ]
    }
   ],
   "source": [
    "for i in a:\n",
    "    print(i)"
   ]
  },
  {
   "cell_type": "code",
   "execution_count": 115,
   "id": "a0731471",
   "metadata": {},
   "outputs": [],
   "source": [
    "A_iter=iter(a)"
   ]
  },
  {
   "cell_type": "code",
   "execution_count": 116,
   "id": "e50325d0",
   "metadata": {},
   "outputs": [
    {
     "data": {
      "text/plain": [
       "<list_iterator at 0x133ff5ec100>"
      ]
     },
     "execution_count": 116,
     "metadata": {},
     "output_type": "execute_result"
    }
   ],
   "source": [
    "A_iter"
   ]
  },
  {
   "cell_type": "code",
   "execution_count": 117,
   "id": "9094e579",
   "metadata": {},
   "outputs": [
    {
     "data": {
      "text/plain": [
       "1"
      ]
     },
     "execution_count": 117,
     "metadata": {},
     "output_type": "execute_result"
    }
   ],
   "source": [
    "next(A_iter)"
   ]
  },
  {
   "cell_type": "code",
   "execution_count": 118,
   "id": "cb30c529",
   "metadata": {},
   "outputs": [
    {
     "data": {
      "text/plain": [
       "2"
      ]
     },
     "execution_count": 118,
     "metadata": {},
     "output_type": "execute_result"
    }
   ],
   "source": [
    "next(A_iter)\n"
   ]
  },
  {
   "cell_type": "code",
   "execution_count": 119,
   "id": "98170030",
   "metadata": {},
   "outputs": [
    {
     "data": {
      "text/plain": [
       "3"
      ]
     },
     "execution_count": 119,
     "metadata": {},
     "output_type": "execute_result"
    }
   ],
   "source": [
    "next(A_iter)"
   ]
  },
  {
   "cell_type": "code",
   "execution_count": 120,
   "id": "c847cb8e",
   "metadata": {},
   "outputs": [
    {
     "data": {
      "text/plain": [
       "4"
      ]
     },
     "execution_count": 120,
     "metadata": {},
     "output_type": "execute_result"
    }
   ],
   "source": [
    "next(A_iter)"
   ]
  },
  {
   "cell_type": "code",
   "execution_count": 121,
   "id": "997cb45b",
   "metadata": {},
   "outputs": [
    {
     "data": {
      "text/plain": [
       "5"
      ]
     },
     "execution_count": 121,
     "metadata": {},
     "output_type": "execute_result"
    }
   ],
   "source": [
    "next(A_iter)"
   ]
  },
  {
   "cell_type": "code",
   "execution_count": 122,
   "id": "db47d426",
   "metadata": {},
   "outputs": [
    {
     "data": {
      "text/plain": [
       "6"
      ]
     },
     "execution_count": 122,
     "metadata": {},
     "output_type": "execute_result"
    }
   ],
   "source": [
    "next(A_iter)"
   ]
  },
  {
   "cell_type": "code",
   "execution_count": null,
   "id": "1b812cec",
   "metadata": {},
   "outputs": [],
   "source": []
  }
 ],
 "metadata": {
  "kernelspec": {
   "display_name": "Python 3 (ipykernel)",
   "language": "python",
   "name": "python3"
  },
  "language_info": {
   "codemirror_mode": {
    "name": "ipython",
    "version": 3
   },
   "file_extension": ".py",
   "mimetype": "text/x-python",
   "name": "python",
   "nbconvert_exporter": "python",
   "pygments_lexer": "ipython3",
   "version": "3.10.9"
  }
 },
 "nbformat": 4,
 "nbformat_minor": 5
}
