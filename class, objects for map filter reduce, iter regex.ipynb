{
 "cells": [
  {
   "cell_type": "code",
   "execution_count": 1,
   "id": "b690f475",
   "metadata": {},
   "outputs": [],
   "source": [
    "#Conditional statements"
   ]
  },
  {
   "cell_type": "code",
   "execution_count": 6,
   "id": "ccab34b1",
   "metadata": {},
   "outputs": [],
   "source": [
    "a=10"
   ]
  },
  {
   "cell_type": "code",
   "execution_count": 7,
   "id": "88ee0dee",
   "metadata": {},
   "outputs": [
    {
     "name": "stdout",
     "output_type": "stream",
     "text": [
      "a is less than 100\n"
     ]
    }
   ],
   "source": [
    "if a<100:\n",
    "    print(\"a is less than 100\")"
   ]
  },
  {
   "cell_type": "code",
   "execution_count": 8,
   "id": "27c103a5",
   "metadata": {},
   "outputs": [
    {
     "data": {
      "text/plain": [
       "True"
      ]
     },
     "execution_count": 8,
     "metadata": {},
     "output_type": "execute_result"
    }
   ],
   "source": [
    "a <100"
   ]
  },
  {
   "cell_type": "code",
   "execution_count": 14,
   "id": "25fdf203",
   "metadata": {},
   "outputs": [],
   "source": [
    "a=219"
   ]
  },
  {
   "cell_type": "code",
   "execution_count": 10,
   "id": "f7ecab4e",
   "metadata": {},
   "outputs": [],
   "source": [
    "if a<100:\n",
    "    print(\"a is less than 100\")"
   ]
  },
  {
   "cell_type": "code",
   "execution_count": 11,
   "id": "bb5da85c",
   "metadata": {},
   "outputs": [
    {
     "data": {
      "text/plain": [
       "False"
      ]
     },
     "execution_count": 11,
     "metadata": {},
     "output_type": "execute_result"
    }
   ],
   "source": [
    "a<100"
   ]
  },
  {
   "cell_type": "code",
   "execution_count": 12,
   "id": "b0996860",
   "metadata": {},
   "outputs": [
    {
     "name": "stdout",
     "output_type": "stream",
     "text": [
      "a is greater than 100\n"
     ]
    }
   ],
   "source": [
    "if a<100:\n",
    "    print(\"a is less than 100\")\n",
    "else:\n",
    "    print(\"a is greater than 100\")"
   ]
  },
  {
   "cell_type": "code",
   "execution_count": 15,
   "id": "3be1300f",
   "metadata": {},
   "outputs": [
    {
     "name": "stdout",
     "output_type": "stream",
     "text": [
      "the number is odd 219\n"
     ]
    }
   ],
   "source": [
    "if(a%2==0):\n",
    "    print(\"The number is even\",a)\n",
    "else:\n",
    "    print(\"the number is odd\",a)"
   ]
  },
  {
   "cell_type": "code",
   "execution_count": 41,
   "id": "07f433a5",
   "metadata": {},
   "outputs": [],
   "source": [
    "marks_scored= 70\n",
    "sub='English'"
   ]
  },
  {
   "cell_type": "code",
   "execution_count": 42,
   "id": "dfe68851",
   "metadata": {},
   "outputs": [
    {
     "name": "stdout",
     "output_type": "stream",
     "text": [
      "No practical\n"
     ]
    }
   ],
   "source": [
    "if sub =='Maths':\n",
    "    if(marks_scored>80):\n",
    "        print(\"Dist\")\n",
    "    elif marks_scored>60:\n",
    "        print(\"Ist class\")\n",
    "    elif marks_scored>40:\n",
    "        print(\"Pass\")\n",
    "    else:\n",
    "        print(\"Fail\")\n",
    "else:\n",
    "    print(\"No practical\")"
   ]
  },
  {
   "cell_type": "code",
   "execution_count": 6,
   "id": "7a3c089b",
   "metadata": {},
   "outputs": [],
   "source": [
    "g=[]"
   ]
  },
  {
   "cell_type": "code",
   "execution_count": 7,
   "id": "18863d0d",
   "metadata": {},
   "outputs": [
    {
     "data": {
      "text/plain": [
       "[]"
      ]
     },
     "execution_count": 7,
     "metadata": {},
     "output_type": "execute_result"
    }
   ],
   "source": [
    "g"
   ]
  },
  {
   "cell_type": "code",
   "execution_count": 8,
   "id": "bac4ac94",
   "metadata": {},
   "outputs": [
    {
     "name": "stdout",
     "output_type": "stream",
     "text": [
      "0\n",
      "1\n",
      "2\n",
      "3\n",
      "4\n",
      "5\n",
      "6\n",
      "7\n",
      "8\n",
      "9\n"
     ]
    }
   ],
   "source": [
    "for i in range(10):\n",
    "    print(i)\n",
    "    g.append(i)"
   ]
  },
  {
   "cell_type": "code",
   "execution_count": 1,
   "id": "f645fea2",
   "metadata": {},
   "outputs": [
    {
     "ename": "NameError",
     "evalue": "name 'g' is not defined",
     "output_type": "error",
     "traceback": [
      "\u001b[1;31m---------------------------------------------------------------------------\u001b[0m",
      "\u001b[1;31mNameError\u001b[0m                                 Traceback (most recent call last)",
      "Cell \u001b[1;32mIn[1], line 1\u001b[0m\n\u001b[1;32m----> 1\u001b[0m \u001b[43mg\u001b[49m\n",
      "\u001b[1;31mNameError\u001b[0m: name 'g' is not defined"
     ]
    }
   ],
   "source": [
    "g"
   ]
  },
  {
   "cell_type": "code",
   "execution_count": 2,
   "id": "1ab301f8",
   "metadata": {},
   "outputs": [
    {
     "ename": "NameError",
     "evalue": "name 'g' is not defined",
     "output_type": "error",
     "traceback": [
      "\u001b[1;31m---------------------------------------------------------------------------\u001b[0m",
      "\u001b[1;31mNameError\u001b[0m                                 Traceback (most recent call last)",
      "Cell \u001b[1;32mIn[2], line 1\u001b[0m\n\u001b[1;32m----> 1\u001b[0m \u001b[43mg\u001b[49m\n",
      "\u001b[1;31mNameError\u001b[0m: name 'g' is not defined"
     ]
    }
   ],
   "source": [
    "g"
   ]
  },
  {
   "cell_type": "code",
   "execution_count": 3,
   "id": "f3143582",
   "metadata": {},
   "outputs": [],
   "source": [
    "g=[1,2,3,4,5,6,7,8,9]"
   ]
  },
  {
   "cell_type": "code",
   "execution_count": 4,
   "id": "4d46d997",
   "metadata": {},
   "outputs": [],
   "source": [
    "even=[]\n",
    "odd=[]"
   ]
  },
  {
   "cell_type": "code",
   "execution_count": null,
   "id": "561de8c0",
   "metadata": {},
   "outputs": [],
   "source": []
  },
  {
   "cell_type": "code",
   "execution_count": 5,
   "id": "ef5655d4",
   "metadata": {},
   "outputs": [],
   "source": [
    "for i in g:\n",
    "    if i%2==0:\n",
    "        even.append(i)\n",
    "    else:\n",
    "        odd.append(i)"
   ]
  },
  {
   "cell_type": "code",
   "execution_count": 6,
   "id": "a8e8a039",
   "metadata": {},
   "outputs": [
    {
     "data": {
      "text/plain": [
       "[2, 4, 6, 8]"
      ]
     },
     "execution_count": 6,
     "metadata": {},
     "output_type": "execute_result"
    }
   ],
   "source": [
    "even"
   ]
  },
  {
   "cell_type": "code",
   "execution_count": 7,
   "id": "dd3577f1",
   "metadata": {},
   "outputs": [
    {
     "data": {
      "text/plain": [
       "[1, 3, 5, 7, 9]"
      ]
     },
     "execution_count": 7,
     "metadata": {},
     "output_type": "execute_result"
    }
   ],
   "source": [
    "odd"
   ]
  },
  {
   "cell_type": "code",
   "execution_count": 8,
   "id": "df0a22c6",
   "metadata": {},
   "outputs": [
    {
     "name": "stdout",
     "output_type": "stream",
     "text": [
      "3\n"
     ]
    }
   ],
   "source": [
    "a=1\n",
    "b=2\n",
    "c=a+b\n",
    "print(c)"
   ]
  },
  {
   "cell_type": "code",
   "execution_count": 9,
   "id": "90043751",
   "metadata": {},
   "outputs": [],
   "source": [
    "def add_1():\n",
    "    a=1\n",
    "    b=2\n",
    "    c=a+b\n",
    "    print(c)\n",
    "    "
   ]
  },
  {
   "cell_type": "code",
   "execution_count": 10,
   "id": "bab02dab",
   "metadata": {},
   "outputs": [
    {
     "data": {
      "text/plain": [
       "3"
      ]
     },
     "execution_count": 10,
     "metadata": {},
     "output_type": "execute_result"
    }
   ],
   "source": [
    "c"
   ]
  },
  {
   "cell_type": "code",
   "execution_count": 11,
   "id": "9d5762ce",
   "metadata": {},
   "outputs": [
    {
     "name": "stdout",
     "output_type": "stream",
     "text": [
      "3\n"
     ]
    }
   ],
   "source": [
    "add_1()"
   ]
  },
  {
   "cell_type": "code",
   "execution_count": 12,
   "id": "a9c999b0",
   "metadata": {},
   "outputs": [],
   "source": [
    "def add_1():\n",
    "    a=1\n",
    "    b=2\n",
    "    c=a+b\n",
    "    print(c)"
   ]
  },
  {
   "cell_type": "code",
   "execution_count": 13,
   "id": "db8b69f5",
   "metadata": {},
   "outputs": [
    {
     "name": "stdout",
     "output_type": "stream",
     "text": [
      "3\n"
     ]
    },
    {
     "ename": "TypeError",
     "evalue": "unsupported operand type(s) for +: 'NoneType' and 'int'",
     "output_type": "error",
     "traceback": [
      "\u001b[1;31m---------------------------------------------------------------------------\u001b[0m",
      "\u001b[1;31mTypeError\u001b[0m                                 Traceback (most recent call last)",
      "Cell \u001b[1;32mIn[13], line 1\u001b[0m\n\u001b[1;32m----> 1\u001b[0m \u001b[43madd_1\u001b[49m\u001b[43m(\u001b[49m\u001b[43m)\u001b[49m\u001b[43m \u001b[49m\u001b[38;5;241;43m+\u001b[39;49m\u001b[43m \u001b[49m\u001b[38;5;241;43m5\u001b[39;49m\n",
      "\u001b[1;31mTypeError\u001b[0m: unsupported operand type(s) for +: 'NoneType' and 'int'"
     ]
    }
   ],
   "source": [
    "add_1() + 5"
   ]
  },
  {
   "cell_type": "code",
   "execution_count": 14,
   "id": "7da27d70",
   "metadata": {},
   "outputs": [],
   "source": [
    "def add_2():\n",
    "    a=1\n",
    "    b=2\n",
    "    c=a+b\n",
    "    return(c)"
   ]
  },
  {
   "cell_type": "code",
   "execution_count": 15,
   "id": "c5d1140c",
   "metadata": {},
   "outputs": [
    {
     "data": {
      "text/plain": [
       "8"
      ]
     },
     "execution_count": 15,
     "metadata": {},
     "output_type": "execute_result"
    }
   ],
   "source": [
    "add_2()+5"
   ]
  },
  {
   "cell_type": "code",
   "execution_count": 16,
   "id": "61325e4d",
   "metadata": {},
   "outputs": [
    {
     "data": {
      "text/plain": [
       "3"
      ]
     },
     "execution_count": 16,
     "metadata": {},
     "output_type": "execute_result"
    }
   ],
   "source": [
    "add_2()"
   ]
  },
  {
   "cell_type": "code",
   "execution_count": 17,
   "id": "d708995e",
   "metadata": {},
   "outputs": [
    {
     "data": {
      "text/plain": [
       "8"
      ]
     },
     "execution_count": 17,
     "metadata": {},
     "output_type": "execute_result"
    }
   ],
   "source": [
    "a=1\n",
    "b=2\n",
    "c=a+b\n",
    "c+5"
   ]
  },
  {
   "cell_type": "code",
   "execution_count": 18,
   "id": "e3753d92",
   "metadata": {},
   "outputs": [
    {
     "name": "stdout",
     "output_type": "stream",
     "text": [
      "3\n"
     ]
    },
    {
     "ename": "TypeError",
     "evalue": "unsupported operand type(s) for +: 'NoneType' and 'int'",
     "output_type": "error",
     "traceback": [
      "\u001b[1;31m---------------------------------------------------------------------------\u001b[0m",
      "\u001b[1;31mTypeError\u001b[0m                                 Traceback (most recent call last)",
      "Cell \u001b[1;32mIn[18], line 4\u001b[0m\n\u001b[0;32m      2\u001b[0m b\u001b[38;5;241m=\u001b[39m\u001b[38;5;241m2\u001b[39m\n\u001b[0;32m      3\u001b[0m c\u001b[38;5;241m=\u001b[39ma\u001b[38;5;241m+\u001b[39mb\n\u001b[1;32m----> 4\u001b[0m \u001b[38;5;28;43mprint\u001b[39;49m\u001b[43m(\u001b[49m\u001b[43mc\u001b[49m\u001b[43m)\u001b[49m\u001b[38;5;241;43m+\u001b[39;49m\u001b[38;5;241;43m5\u001b[39;49m\n",
      "\u001b[1;31mTypeError\u001b[0m: unsupported operand type(s) for +: 'NoneType' and 'int'"
     ]
    }
   ],
   "source": [
    "a=1\n",
    "b=2\n",
    "c=a+b\n",
    "print(c)+5"
   ]
  },
  {
   "cell_type": "code",
   "execution_count": 19,
   "id": "1e14efd1",
   "metadata": {},
   "outputs": [
    {
     "name": "stdout",
     "output_type": "stream",
     "text": [
      "8\n"
     ]
    }
   ],
   "source": [
    "a=1\n",
    "b=2\n",
    "c=a+b\n",
    "print(c+5)"
   ]
  },
  {
   "cell_type": "code",
   "execution_count": 20,
   "id": "acf71036",
   "metadata": {},
   "outputs": [
    {
     "ename": "TypeError",
     "evalue": "can only concatenate str (not \"int\") to str",
     "output_type": "error",
     "traceback": [
      "\u001b[1;31m---------------------------------------------------------------------------\u001b[0m",
      "\u001b[1;31mTypeError\u001b[0m                                 Traceback (most recent call last)",
      "Cell \u001b[1;32mIn[20], line 1\u001b[0m\n\u001b[1;32m----> 1\u001b[0m \u001b[38;5;124;43m'\u001b[39;49m\u001b[38;5;124;43ma\u001b[39;49m\u001b[38;5;124;43m'\u001b[39;49m\u001b[38;5;241;43m+\u001b[39;49m\u001b[38;5;241;43m6\u001b[39;49m\n",
      "\u001b[1;31mTypeError\u001b[0m: can only concatenate str (not \"int\") to str"
     ]
    }
   ],
   "source": [
    "'a'+6"
   ]
  },
  {
   "cell_type": "code",
   "execution_count": 2,
   "id": "ff9af04b",
   "metadata": {},
   "outputs": [],
   "source": [
    " def add_3(a,b):\n",
    "    c=a+b\n",
    "    print(c)"
   ]
  },
  {
   "cell_type": "code",
   "execution_count": 3,
   "id": "a42669dd",
   "metadata": {},
   "outputs": [
    {
     "ename": "TypeError",
     "evalue": "add_3() missing 2 required positional arguments: 'a' and 'b'",
     "output_type": "error",
     "traceback": [
      "\u001b[1;31m---------------------------------------------------------------------------\u001b[0m",
      "\u001b[1;31mTypeError\u001b[0m                                 Traceback (most recent call last)",
      "Cell \u001b[1;32mIn[3], line 1\u001b[0m\n\u001b[1;32m----> 1\u001b[0m \u001b[43madd_3\u001b[49m\u001b[43m(\u001b[49m\u001b[43m)\u001b[49m\n",
      "\u001b[1;31mTypeError\u001b[0m: add_3() missing 2 required positional arguments: 'a' and 'b'"
     ]
    }
   ],
   "source": [
    "add_3()"
   ]
  },
  {
   "cell_type": "code",
   "execution_count": 4,
   "id": "d948e54e",
   "metadata": {},
   "outputs": [
    {
     "name": "stdout",
     "output_type": "stream",
     "text": [
      "15\n"
     ]
    }
   ],
   "source": [
    "add_3(7,8)"
   ]
  },
  {
   "cell_type": "code",
   "execution_count": 5,
   "id": "fab6198f",
   "metadata": {},
   "outputs": [],
   "source": [
    "def add_4(a):\n",
    "    b=10\n",
    "    c=a+b\n",
    "    print(c)"
   ]
  },
  {
   "cell_type": "code",
   "execution_count": 6,
   "id": "c0934b0c",
   "metadata": {},
   "outputs": [
    {
     "name": "stdout",
     "output_type": "stream",
     "text": [
      "15\n"
     ]
    }
   ],
   "source": [
    "add_4(5)"
   ]
  },
  {
   "cell_type": "code",
   "execution_count": 7,
   "id": "8f94cdca",
   "metadata": {},
   "outputs": [
    {
     "ename": "TypeError",
     "evalue": "add_4() takes 1 positional argument but 2 were given",
     "output_type": "error",
     "traceback": [
      "\u001b[1;31m---------------------------------------------------------------------------\u001b[0m",
      "\u001b[1;31mTypeError\u001b[0m                                 Traceback (most recent call last)",
      "Cell \u001b[1;32mIn[7], line 1\u001b[0m\n\u001b[1;32m----> 1\u001b[0m \u001b[43madd_4\u001b[49m\u001b[43m(\u001b[49m\u001b[38;5;241;43m4\u001b[39;49m\u001b[43m,\u001b[49m\u001b[38;5;241;43m5\u001b[39;49m\u001b[43m)\u001b[49m\n",
      "\u001b[1;31mTypeError\u001b[0m: add_4() takes 1 positional argument but 2 were given"
     ]
    }
   ],
   "source": [
    "add_4(4,5)"
   ]
  },
  {
   "cell_type": "code",
   "execution_count": 10,
   "id": "a288d731",
   "metadata": {},
   "outputs": [],
   "source": [
    "def add_5(a=5, b=3):\n",
    "    c=a+b\n",
    "    print(c)"
   ]
  },
  {
   "cell_type": "code",
   "execution_count": 11,
   "id": "e844dbe5",
   "metadata": {},
   "outputs": [
    {
     "name": "stdout",
     "output_type": "stream",
     "text": [
      "8\n"
     ]
    }
   ],
   "source": [
    "add_5()"
   ]
  },
  {
   "cell_type": "code",
   "execution_count": 12,
   "id": "5e897cc2",
   "metadata": {},
   "outputs": [
    {
     "name": "stdout",
     "output_type": "stream",
     "text": [
      "4\n"
     ]
    }
   ],
   "source": [
    "add_5(1)"
   ]
  },
  {
   "cell_type": "code",
   "execution_count": 13,
   "id": "51e57d99",
   "metadata": {},
   "outputs": [
    {
     "name": "stdout",
     "output_type": "stream",
     "text": [
      "7\n"
     ]
    }
   ],
   "source": [
    "add_5(4)"
   ]
  },
  {
   "cell_type": "code",
   "execution_count": 14,
   "id": "06f9961f",
   "metadata": {},
   "outputs": [
    {
     "name": "stdout",
     "output_type": "stream",
     "text": [
      "13\n"
     ]
    }
   ],
   "source": [
    "add_5(10)#taking the argument value of a "
   ]
  },
  {
   "cell_type": "code",
   "execution_count": 16,
   "id": "a9755741",
   "metadata": {},
   "outputs": [
    {
     "name": "stdout",
     "output_type": "stream",
     "text": [
      "6\n"
     ]
    }
   ],
   "source": [
    "add_5(b=1)"
   ]
  },
  {
   "cell_type": "code",
   "execution_count": 17,
   "id": "acf8a5b6",
   "metadata": {},
   "outputs": [
    {
     "name": "stdout",
     "output_type": "stream",
     "text": [
      "9\n"
     ]
    }
   ],
   "source": [
    "add_5(b=4)"
   ]
  },
  {
   "cell_type": "code",
   "execution_count": 18,
   "id": "7e9916ab",
   "metadata": {},
   "outputs": [
    {
     "name": "stdout",
     "output_type": "stream",
     "text": [
      "9\n"
     ]
    }
   ],
   "source": [
    "add_5(b=4, a=5)"
   ]
  },
  {
   "cell_type": "code",
   "execution_count": 1,
   "id": "981bf6dd",
   "metadata": {},
   "outputs": [
    {
     "name": "stdout",
     "output_type": "stream",
     "text": [
      "Hi, Rashmi how are you doing?\n"
     ]
    }
   ],
   "source": [
    "fp=open('a.txt',\"r\")# File a.txt and this file should be in the same folder.\n",
    "print(fp.read())\n",
    "fp.close()"
   ]
  },
  {
   "cell_type": "code",
   "execution_count": 2,
   "id": "de7d4c4b",
   "metadata": {},
   "outputs": [
    {
     "name": "stdout",
     "output_type": "stream",
     "text": [
      "Hi, Rashmi how are you doing?\n"
     ]
    }
   ],
   "source": [
    "fp=open('C:\\\\Users\\\\dell\\\\Desktop\\\\Guvi DS lessons\\\\File Handling\\\\new\\\\b.txt',\"r\")# File a.txt and this file in different folder write location of text file.\n",
    "print(fp.read())\n",
    "fp.close()\n"
   ]
  },
  {
   "cell_type": "code",
   "execution_count": 4,
   "id": "01c1cd0b",
   "metadata": {},
   "outputs": [],
   "source": [
    "write = \"I'm doing well, what about you?\""
   ]
  },
  {
   "cell_type": "code",
   "execution_count": 5,
   "id": "4ba61635",
   "metadata": {},
   "outputs": [
    {
     "data": {
      "text/plain": [
       "\"I'm doing well, what about you?\""
      ]
     },
     "execution_count": 5,
     "metadata": {},
     "output_type": "execute_result"
    }
   ],
   "source": [
    "write"
   ]
  },
  {
   "cell_type": "code",
   "execution_count": 6,
   "id": "6161615b",
   "metadata": {},
   "outputs": [],
   "source": [
    "fp=open('C:\\\\Users\\\\dell\\\\Desktop\\\\Guvi DS lessons\\\\File Handling\\\\new\\\\c.txt',\"w\")\n",
    "fp.write(write)\n",
    "fp.close()"
   ]
  },
  {
   "cell_type": "code",
   "execution_count": 9,
   "id": "09bd60dc",
   "metadata": {},
   "outputs": [],
   "source": [
    "write_1=\"Tell me about your day.\"\n",
    "fp=open('C:\\\\Users\\\\dell\\\\Desktop\\\\Guvi DS lessons\\\\File Handling\\\\new\\\\c.txt',\"a\")#append to existing file.\n",
    "fp.write(write_1)\n",
    "fp.close()"
   ]
  },
  {
   "cell_type": "code",
   "execution_count": 11,
   "id": "4647099b",
   "metadata": {},
   "outputs": [],
   "source": [
    "write_1=\"Monday \"\n",
    "fp=open('C:\\\\Users\\\\dell\\\\Desktop\\\\Guvi DS lessons\\\\File Handling\\\\new\\\\b.txt',\"a\")#append to existing file.\n",
    "fp.write(write_1)\n",
    "fp.close()"
   ]
  },
  {
   "cell_type": "code",
   "execution_count": 12,
   "id": "78351244",
   "metadata": {},
   "outputs": [],
   "source": [
    "write_1=\"Monday \"\n",
    "fp=open('C:\\\\Users\\\\dell\\\\Desktop\\\\Guvi DS lessons\\\\File Handling\\\\new\\\\a.txt',\"a\")#append to existing file.\n",
    "fp.write(write_1)\n",
    "fp.close()"
   ]
  },
  {
   "cell_type": "code",
   "execution_count": 13,
   "id": "98f9084d",
   "metadata": {},
   "outputs": [],
   "source": [
    "import os\n",
    "os.remove('C:\\\\Users\\\\dell\\\\Desktop\\\\Guvi DS lessons\\\\File Handling\\\\new\\\\a.txt')"
   ]
  },
  {
   "cell_type": "code",
   "execution_count": 1,
   "id": "5290cc80",
   "metadata": {},
   "outputs": [],
   "source": [
    "#class and objects"
   ]
  },
  {
   "cell_type": "code",
   "execution_count": 5,
   "id": "87e5230c",
   "metadata": {},
   "outputs": [],
   "source": [
    "class Person:\n",
    "    def __init__(self,name,gender,age,proff):\n",
    "        self.name=name\n",
    "        self.gender=gender\n",
    "        self.age=age\n",
    "        self.proff=proff\n",
    "        \n",
    "    def show(self):\n",
    "        print(\"Name: \",self.name)\n",
    "        print(\"Gender: \",self.gender)\n",
    "        print(\"Age: \", self.age)\n",
    "        \n",
    "    def work(self):\n",
    "        print(\"Work: \",self.proff)\n",
    "    "
   ]
  },
  {
   "cell_type": "code",
   "execution_count": 6,
   "id": "bc612876",
   "metadata": {},
   "outputs": [
    {
     "data": {
      "text/plain": [
       "__main__.Person"
      ]
     },
     "execution_count": 6,
     "metadata": {},
     "output_type": "execute_result"
    }
   ],
   "source": [
    "Person"
   ]
  },
  {
   "cell_type": "code",
   "execution_count": 7,
   "id": "f7b39657",
   "metadata": {},
   "outputs": [],
   "source": [
    "Virat=Person(\"Virat\",\"Male\",35, \"Cricketer\")"
   ]
  },
  {
   "cell_type": "code",
   "execution_count": 8,
   "id": "bfda25a6",
   "metadata": {},
   "outputs": [
    {
     "data": {
      "text/plain": [
       "<__main__.Person at 0x133fef66380>"
      ]
     },
     "execution_count": 8,
     "metadata": {},
     "output_type": "execute_result"
    }
   ],
   "source": [
    "Virat"
   ]
  },
  {
   "cell_type": "code",
   "execution_count": 9,
   "id": "afb346ef",
   "metadata": {},
   "outputs": [
    {
     "ename": "NameError",
     "evalue": "name 'self' is not defined",
     "output_type": "error",
     "traceback": [
      "\u001b[1;31m---------------------------------------------------------------------------\u001b[0m",
      "\u001b[1;31mNameError\u001b[0m                                 Traceback (most recent call last)",
      "Cell \u001b[1;32mIn[9], line 1\u001b[0m\n\u001b[1;32m----> 1\u001b[0m \u001b[38;5;28;43mself\u001b[39;49m\u001b[38;5;241m.\u001b[39mVirat\n",
      "\u001b[1;31mNameError\u001b[0m: name 'self' is not defined"
     ]
    }
   ],
   "source": [
    "self.Virat"
   ]
  },
  {
   "cell_type": "code",
   "execution_count": 10,
   "id": "7891e9a6",
   "metadata": {},
   "outputs": [
    {
     "ename": "AttributeError",
     "evalue": "'Person' object has no attribute 'self'",
     "output_type": "error",
     "traceback": [
      "\u001b[1;31m---------------------------------------------------------------------------\u001b[0m",
      "\u001b[1;31mAttributeError\u001b[0m                            Traceback (most recent call last)",
      "Cell \u001b[1;32mIn[10], line 1\u001b[0m\n\u001b[1;32m----> 1\u001b[0m \u001b[43mVirat\u001b[49m\u001b[38;5;241;43m.\u001b[39;49m\u001b[43mself\u001b[49m\n",
      "\u001b[1;31mAttributeError\u001b[0m: 'Person' object has no attribute 'self'"
     ]
    }
   ],
   "source": [
    "Virat.self"
   ]
  },
  {
   "cell_type": "code",
   "execution_count": 11,
   "id": "4de51a83",
   "metadata": {},
   "outputs": [
    {
     "name": "stdout",
     "output_type": "stream",
     "text": [
      "Name:  Virat\n",
      "Gender:  Male\n",
      "Age:  35\n"
     ]
    }
   ],
   "source": [
    "Virat.show()"
   ]
  },
  {
   "cell_type": "code",
   "execution_count": 12,
   "id": "befc2def",
   "metadata": {},
   "outputs": [
    {
     "name": "stdout",
     "output_type": "stream",
     "text": [
      "Work:  Cricketer\n"
     ]
    }
   ],
   "source": [
    "Virat.work()"
   ]
  },
  {
   "cell_type": "code",
   "execution_count": 16,
   "id": "c66dfd9c",
   "metadata": {},
   "outputs": [],
   "source": [
    "Rashmi= Person(\"Rashmi\",\"Female\",27,\"Data Scientist\")"
   ]
  },
  {
   "cell_type": "code",
   "execution_count": 17,
   "id": "07d751e1",
   "metadata": {},
   "outputs": [
    {
     "data": {
      "text/plain": [
       "<__main__.Person at 0x133fef40730>"
      ]
     },
     "execution_count": 17,
     "metadata": {},
     "output_type": "execute_result"
    }
   ],
   "source": [
    "Rashmi"
   ]
  },
  {
   "cell_type": "code",
   "execution_count": 18,
   "id": "f5d46a2c",
   "metadata": {},
   "outputs": [
    {
     "name": "stdout",
     "output_type": "stream",
     "text": [
      "Name:  Rashmi\n",
      "Gender:  Female\n",
      "Age:  27\n"
     ]
    }
   ],
   "source": [
    "Rashmi.show()"
   ]
  },
  {
   "cell_type": "code",
   "execution_count": 20,
   "id": "c07c1506",
   "metadata": {},
   "outputs": [
    {
     "name": "stdout",
     "output_type": "stream",
     "text": [
      "Work:  Data Scientist\n"
     ]
    }
   ],
   "source": [
    "Rashmi.work()"
   ]
  },
  {
   "cell_type": "code",
   "execution_count": 21,
   "id": "4bcb7e26",
   "metadata": {},
   "outputs": [],
   "source": [
    "#lambda function"
   ]
  },
  {
   "cell_type": "code",
   "execution_count": 22,
   "id": "a0f6d088",
   "metadata": {},
   "outputs": [],
   "source": [
    "def add_6(a,b):\n",
    "    c=a+b\n",
    "    print(c)"
   ]
  },
  {
   "cell_type": "code",
   "execution_count": 23,
   "id": "189bc81c",
   "metadata": {},
   "outputs": [
    {
     "name": "stdout",
     "output_type": "stream",
     "text": [
      "3\n"
     ]
    }
   ],
   "source": [
    "add_6(1,2)"
   ]
  },
  {
   "cell_type": "code",
   "execution_count": 27,
   "id": "869ca3c6",
   "metadata": {},
   "outputs": [],
   "source": [
    "x=lambda a,b:a+b #with lambda(anonymous function) we just wrote the code in 1 line"
   ]
  },
  {
   "cell_type": "code",
   "execution_count": 28,
   "id": "4c655fe9",
   "metadata": {},
   "outputs": [
    {
     "data": {
      "text/plain": [
       "6"
      ]
     },
     "execution_count": 28,
     "metadata": {},
     "output_type": "execute_result"
    }
   ],
   "source": [
    "x(1,5)"
   ]
  },
  {
   "cell_type": "code",
   "execution_count": 29,
   "id": "ddb5060e",
   "metadata": {},
   "outputs": [],
   "source": [
    "#map reduce filter"
   ]
  },
  {
   "cell_type": "code",
   "execution_count": 30,
   "id": "7dfaefe2",
   "metadata": {},
   "outputs": [],
   "source": [
    "#map is n to n functions, number of elements in input output same"
   ]
  },
  {
   "cell_type": "code",
   "execution_count": 31,
   "id": "fed815e8",
   "metadata": {},
   "outputs": [],
   "source": [
    "a=[\"rashmi\",\"shaurya\",\"divya\"]"
   ]
  },
  {
   "cell_type": "code",
   "execution_count": 32,
   "id": "3b7f92b3",
   "metadata": {},
   "outputs": [],
   "source": [
    "map_1=map(str.upper,a)"
   ]
  },
  {
   "cell_type": "code",
   "execution_count": 35,
   "id": "142c0e76",
   "metadata": {},
   "outputs": [
    {
     "data": {
      "text/plain": [
       "['RASHMI', 'SHAURYA', 'DIVYA']"
      ]
     },
     "execution_count": 35,
     "metadata": {},
     "output_type": "execute_result"
    }
   ],
   "source": [
    "list(map_1)"
   ]
  },
  {
   "cell_type": "code",
   "execution_count": 36,
   "id": "e504b79b",
   "metadata": {},
   "outputs": [],
   "source": [
    "b=[\"Rashmi\",\"Shaurya\",\"Divya\"]"
   ]
  },
  {
   "cell_type": "code",
   "execution_count": 37,
   "id": "9503a0ba",
   "metadata": {},
   "outputs": [],
   "source": [
    "map_2=map(str.upper,b)"
   ]
  },
  {
   "cell_type": "code",
   "execution_count": 38,
   "id": "a0ec6567",
   "metadata": {},
   "outputs": [
    {
     "data": {
      "text/plain": [
       "['RASHMI', 'SHAURYA', 'DIVYA']"
      ]
     },
     "execution_count": 38,
     "metadata": {},
     "output_type": "execute_result"
    }
   ],
   "source": [
    "list(map_2)"
   ]
  },
  {
   "cell_type": "code",
   "execution_count": 39,
   "id": "b880239f",
   "metadata": {},
   "outputs": [],
   "source": [
    "map_3=map(str.lower,b)"
   ]
  },
  {
   "cell_type": "code",
   "execution_count": 40,
   "id": "08f690e3",
   "metadata": {},
   "outputs": [
    {
     "data": {
      "text/plain": [
       "['rashmi', 'shaurya', 'divya']"
      ]
     },
     "execution_count": 40,
     "metadata": {},
     "output_type": "execute_result"
    }
   ],
   "source": [
    "list(map_3)"
   ]
  },
  {
   "cell_type": "code",
   "execution_count": 41,
   "id": "f65f6d10",
   "metadata": {},
   "outputs": [],
   "source": [
    "def count_1(x):\n",
    "    return len(list(x))"
   ]
  },
  {
   "cell_type": "code",
   "execution_count": 42,
   "id": "8f977698",
   "metadata": {},
   "outputs": [],
   "source": [
    "map_4=map(count_1,a)"
   ]
  },
  {
   "cell_type": "code",
   "execution_count": 43,
   "id": "31bf2efc",
   "metadata": {},
   "outputs": [
    {
     "data": {
      "text/plain": [
       "[6, 7, 5]"
      ]
     },
     "execution_count": 43,
     "metadata": {},
     "output_type": "execute_result"
    }
   ],
   "source": [
    "list(map_4)"
   ]
  },
  {
   "cell_type": "code",
   "execution_count": 44,
   "id": "059324e2",
   "metadata": {},
   "outputs": [],
   "source": [
    "#filter n to m , where n>=m"
   ]
  },
  {
   "cell_type": "code",
   "execution_count": 45,
   "id": "07573762",
   "metadata": {},
   "outputs": [],
   "source": [
    "c=[\"sachin\",\"dravid\",\"kohli\"]"
   ]
  },
  {
   "cell_type": "code",
   "execution_count": 46,
   "id": "dc7a97a6",
   "metadata": {},
   "outputs": [],
   "source": [
    "def filter_out(x):\n",
    "    return 'a' in x"
   ]
  },
  {
   "cell_type": "code",
   "execution_count": 47,
   "id": "3cbcafa9",
   "metadata": {},
   "outputs": [],
   "source": [
    "filter_1=filter(filter_out,c)"
   ]
  },
  {
   "cell_type": "code",
   "execution_count": 48,
   "id": "d786b738",
   "metadata": {},
   "outputs": [
    {
     "data": {
      "text/plain": [
       "['sachin', 'dravid']"
      ]
     },
     "execution_count": 48,
     "metadata": {},
     "output_type": "execute_result"
    }
   ],
   "source": [
    "list(filter_1)"
   ]
  },
  {
   "cell_type": "code",
   "execution_count": 50,
   "id": "3269aa1c",
   "metadata": {},
   "outputs": [
    {
     "data": {
      "text/plain": [
       "True"
      ]
     },
     "execution_count": 50,
     "metadata": {},
     "output_type": "execute_result"
    }
   ],
   "source": [
    "'a' in 'sachin'"
   ]
  },
  {
   "cell_type": "code",
   "execution_count": 51,
   "id": "b44a2889",
   "metadata": {},
   "outputs": [
    {
     "data": {
      "text/plain": [
       "True"
      ]
     },
     "execution_count": 51,
     "metadata": {},
     "output_type": "execute_result"
    }
   ],
   "source": [
    "'a' in 'dravid'"
   ]
  },
  {
   "cell_type": "code",
   "execution_count": 52,
   "id": "1b1a2937",
   "metadata": {},
   "outputs": [
    {
     "data": {
      "text/plain": [
       "False"
      ]
     },
     "execution_count": 52,
     "metadata": {},
     "output_type": "execute_result"
    }
   ],
   "source": [
    "'a' in 'kohli'"
   ]
  },
  {
   "cell_type": "code",
   "execution_count": 53,
   "id": "4cb1939c",
   "metadata": {},
   "outputs": [],
   "source": [
    "v=lambda x:x%2==0"
   ]
  },
  {
   "cell_type": "code",
   "execution_count": 54,
   "id": "64f1ce81",
   "metadata": {},
   "outputs": [
    {
     "data": {
      "text/plain": [
       "True"
      ]
     },
     "execution_count": 54,
     "metadata": {},
     "output_type": "execute_result"
    }
   ],
   "source": [
    "v(16)"
   ]
  },
  {
   "cell_type": "code",
   "execution_count": 55,
   "id": "436adced",
   "metadata": {},
   "outputs": [
    {
     "data": {
      "text/plain": [
       "False"
      ]
     },
     "execution_count": 55,
     "metadata": {},
     "output_type": "execute_result"
    }
   ],
   "source": [
    "v(15)"
   ]
  },
  {
   "cell_type": "code",
   "execution_count": 56,
   "id": "77c3e42d",
   "metadata": {},
   "outputs": [],
   "source": [
    "a=[1,2,3,4,5]"
   ]
  },
  {
   "cell_type": "code",
   "execution_count": 58,
   "id": "70c8de60",
   "metadata": {},
   "outputs": [],
   "source": [
    "filter_1=filter(lambda x:x%2==0,a)"
   ]
  },
  {
   "cell_type": "code",
   "execution_count": 59,
   "id": "533b50d5",
   "metadata": {},
   "outputs": [
    {
     "data": {
      "text/plain": [
       "[2, 4]"
      ]
     },
     "execution_count": 59,
     "metadata": {},
     "output_type": "execute_result"
    }
   ],
   "source": [
    "list(filter_1)"
   ]
  },
  {
   "cell_type": "code",
   "execution_count": 60,
   "id": "5a6361c6",
   "metadata": {},
   "outputs": [],
   "source": [
    "filter_2=filter(lambda x:x%2!=0,a)"
   ]
  },
  {
   "cell_type": "code",
   "execution_count": 61,
   "id": "bdd41882",
   "metadata": {},
   "outputs": [
    {
     "data": {
      "text/plain": [
       "[1, 3, 5]"
      ]
     },
     "execution_count": 61,
     "metadata": {},
     "output_type": "execute_result"
    }
   ],
   "source": [
    "list(filter_2)"
   ]
  },
  {
   "cell_type": "code",
   "execution_count": 62,
   "id": "718abc1e",
   "metadata": {},
   "outputs": [],
   "source": [
    "#reduce"
   ]
  },
  {
   "cell_type": "code",
   "execution_count": 63,
   "id": "4b5c1e87",
   "metadata": {},
   "outputs": [],
   "source": [
    "from functools import reduce"
   ]
  },
  {
   "cell_type": "code",
   "execution_count": 68,
   "id": "3bc5cd80",
   "metadata": {},
   "outputs": [],
   "source": [
    "reduce_1= reduce(lambda x,y:x+y, a)"
   ]
  },
  {
   "cell_type": "code",
   "execution_count": 69,
   "id": "d76ba3fa",
   "metadata": {},
   "outputs": [
    {
     "data": {
      "text/plain": [
       "15"
      ]
     },
     "execution_count": 69,
     "metadata": {},
     "output_type": "execute_result"
    }
   ],
   "source": [
    "reduce_1"
   ]
  },
  {
   "cell_type": "code",
   "execution_count": 70,
   "id": "078eb1ee",
   "metadata": {},
   "outputs": [],
   "source": [
    "#regex"
   ]
  },
  {
   "cell_type": "code",
   "execution_count": 71,
   "id": "29559ff4",
   "metadata": {},
   "outputs": [],
   "source": [
    "import re"
   ]
  },
  {
   "cell_type": "code",
   "execution_count": 72,
   "id": "b5045e90",
   "metadata": {},
   "outputs": [],
   "source": [
    "to_search='Rashmi'"
   ]
  },
  {
   "cell_type": "code",
   "execution_count": 78,
   "id": "66a33baf",
   "metadata": {},
   "outputs": [],
   "source": [
    "in_word=\"Rashmi has done her Integrated Masters in Applied Mathematics. Rashmi studied at NIT Surat.\""
   ]
  },
  {
   "cell_type": "code",
   "execution_count": 81,
   "id": "c7c2423b",
   "metadata": {},
   "outputs": [
    {
     "name": "stdout",
     "output_type": "stream",
     "text": [
      "['Rashmi', 'Rashmi']\n"
     ]
    }
   ],
   "source": [
    "print(re.findall(to_search,in_word))"
   ]
  },
  {
   "cell_type": "code",
   "execution_count": 82,
   "id": "89178d2e",
   "metadata": {},
   "outputs": [
    {
     "name": "stdout",
     "output_type": "stream",
     "text": [
      "2\n"
     ]
    }
   ],
   "source": [
    "print(len(re.findall(to_search,in_word)))"
   ]
  },
  {
   "cell_type": "code",
   "execution_count": 83,
   "id": "29bc3aa3",
   "metadata": {},
   "outputs": [],
   "source": [
    "in_word_1= \"Rashmi lives i flat number 2, 4th street\""
   ]
  },
  {
   "cell_type": "code",
   "execution_count": 85,
   "id": "17e54eab",
   "metadata": {},
   "outputs": [
    {
     "name": "stdout",
     "output_type": "stream",
     "text": [
      "['2', '4']\n"
     ]
    }
   ],
   "source": [
    "print(re.findall('\\d',in_word_1))"
   ]
  },
  {
   "cell_type": "code",
   "execution_count": 104,
   "id": "858f9dea",
   "metadata": {},
   "outputs": [],
   "source": [
    "in_word_2= \"Rashmi lives i flat number 2, 233rd street. !!!!\""
   ]
  },
  {
   "cell_type": "code",
   "execution_count": 105,
   "id": "7d4e57ef",
   "metadata": {},
   "outputs": [
    {
     "name": "stdout",
     "output_type": "stream",
     "text": [
      "['2', '2', '3', '3']\n"
     ]
    }
   ],
   "source": [
    "print(re.findall('\\d',in_word_2))"
   ]
  },
  {
   "cell_type": "code",
   "execution_count": 106,
   "id": "dccf14a0",
   "metadata": {},
   "outputs": [
    {
     "name": "stdout",
     "output_type": "stream",
     "text": [
      "['233']\n"
     ]
    }
   ],
   "source": [
    "print(re.findall('\\d\\d\\d',in_word_2))#to avoid splitting of numbers"
   ]
  },
  {
   "cell_type": "code",
   "execution_count": 107,
   "id": "2a90e172",
   "metadata": {},
   "outputs": [
    {
     "name": "stdout",
     "output_type": "stream",
     "text": [
      "['2', '233']\n"
     ]
    }
   ],
   "source": [
    "print(re.findall('\\d+',in_word_2))"
   ]
  },
  {
   "cell_type": "code",
   "execution_count": 108,
   "id": "fcb986a9",
   "metadata": {},
   "outputs": [
    {
     "name": "stdout",
     "output_type": "stream",
     "text": [
      "['R', 'a', 's', 'h', 'm', 'i', 'l', 'i', 'v', 'e', 's', 'i', 'f', 'l', 'a', 't', 'n', 'u', 'm', 'b', 'e', 'r', '2', '4', 't', 'h', 's', 't', 'r', 'e', 'e', 't']\n"
     ]
    }
   ],
   "source": [
    "print(re.findall('\\w',in_word_1))"
   ]
  },
  {
   "cell_type": "code",
   "execution_count": 109,
   "id": "476b6f46",
   "metadata": {},
   "outputs": [
    {
     "name": "stdout",
     "output_type": "stream",
     "text": [
      "['Rashmi', 'lives', 'i', 'flat', 'number', '2', '4th', 'street']\n"
     ]
    }
   ],
   "source": [
    "print(re.findall('\\w+',in_word_1))"
   ]
  },
  {
   "cell_type": "code",
   "execution_count": 111,
   "id": "e37afb05",
   "metadata": {},
   "outputs": [
    {
     "name": "stdout",
     "output_type": "stream",
     "text": [
      "<re.Match object; span=(0, 6), match='Rashmi'>\n"
     ]
    }
   ],
   "source": [
    "print(re.search(to_search,in_word))"
   ]
  },
  {
   "cell_type": "code",
   "execution_count": 112,
   "id": "6e3c109c",
   "metadata": {},
   "outputs": [],
   "source": [
    "#iterations"
   ]
  },
  {
   "cell_type": "code",
   "execution_count": 113,
   "id": "ce8a3153",
   "metadata": {},
   "outputs": [],
   "source": [
    "a=[1,2,3,4,5,6]"
   ]
  },
  {
   "cell_type": "code",
   "execution_count": 114,
   "id": "3c998eb5",
   "metadata": {},
   "outputs": [
    {
     "name": "stdout",
     "output_type": "stream",
     "text": [
      "1\n",
      "2\n",
      "3\n",
      "4\n",
      "5\n",
      "6\n"
     ]
    }
   ],
   "source": [
    "for i in a:\n",
    "    print(i)"
   ]
  },
  {
   "cell_type": "code",
   "execution_count": 115,
   "id": "dca7d750",
   "metadata": {},
   "outputs": [],
   "source": [
    "A_iter=iter(a)"
   ]
  },
  {
   "cell_type": "code",
   "execution_count": 116,
   "id": "9cf46894",
   "metadata": {},
   "outputs": [
    {
     "data": {
      "text/plain": [
       "<list_iterator at 0x133ff5ec100>"
      ]
     },
     "execution_count": 116,
     "metadata": {},
     "output_type": "execute_result"
    }
   ],
   "source": [
    "A_iter"
   ]
  },
  {
   "cell_type": "code",
   "execution_count": 117,
   "id": "b4ceaca2",
   "metadata": {},
   "outputs": [
    {
     "data": {
      "text/plain": [
       "1"
      ]
     },
     "execution_count": 117,
     "metadata": {},
     "output_type": "execute_result"
    }
   ],
   "source": [
    "next(A_iter)"
   ]
  },
  {
   "cell_type": "code",
   "execution_count": 118,
   "id": "67c1c0c6",
   "metadata": {},
   "outputs": [
    {
     "data": {
      "text/plain": [
       "2"
      ]
     },
     "execution_count": 118,
     "metadata": {},
     "output_type": "execute_result"
    }
   ],
   "source": [
    "next(A_iter)\n"
   ]
  },
  {
   "cell_type": "code",
   "execution_count": 119,
   "id": "edcf4b50",
   "metadata": {},
   "outputs": [
    {
     "data": {
      "text/plain": [
       "3"
      ]
     },
     "execution_count": 119,
     "metadata": {},
     "output_type": "execute_result"
    }
   ],
   "source": [
    "next(A_iter)"
   ]
  },
  {
   "cell_type": "code",
   "execution_count": 120,
   "id": "cc0fefba",
   "metadata": {},
   "outputs": [
    {
     "data": {
      "text/plain": [
       "4"
      ]
     },
     "execution_count": 120,
     "metadata": {},
     "output_type": "execute_result"
    }
   ],
   "source": [
    "next(A_iter)"
   ]
  },
  {
   "cell_type": "code",
   "execution_count": 121,
   "id": "04ecc5ad",
   "metadata": {},
   "outputs": [
    {
     "data": {
      "text/plain": [
       "5"
      ]
     },
     "execution_count": 121,
     "metadata": {},
     "output_type": "execute_result"
    }
   ],
   "source": [
    "next(A_iter)"
   ]
  },
  {
   "cell_type": "code",
   "execution_count": 122,
   "id": "60230c56",
   "metadata": {},
   "outputs": [
    {
     "data": {
      "text/plain": [
       "6"
      ]
     },
     "execution_count": 122,
     "metadata": {},
     "output_type": "execute_result"
    }
   ],
   "source": [
    "next(A_iter)"
   ]
  },
  {
   "cell_type": "code",
   "execution_count": null,
   "id": "b2ed4dd1",
   "metadata": {},
   "outputs": [],
   "source": []
  }
 ],
 "metadata": {
  "kernelspec": {
   "display_name": "Python 3 (ipykernel)",
   "language": "python",
   "name": "python3"
  },
  "language_info": {
   "codemirror_mode": {
    "name": "ipython",
    "version": 3
   },
   "file_extension": ".py",
   "mimetype": "text/x-python",
   "name": "python",
   "nbconvert_exporter": "python",
   "pygments_lexer": "ipython3",
   "version": "3.10.9"
  }
 },
 "nbformat": 4,
 "nbformat_minor": 5
}
