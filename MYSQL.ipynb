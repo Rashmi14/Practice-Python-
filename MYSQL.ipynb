{
 "cells": [
  {
   "cell_type": "code",
   "execution_count": 1,
   "id": "9420cf08",
   "metadata": {},
   "outputs": [
    {
     "name": "stdout",
     "output_type": "stream",
     "text": [
      "Requirement already satisfied: mysql in c:\\users\\dell\\anaconda3\\lib\\site-packages (0.0.3)\n",
      "Requirement already satisfied: mysqlclient in c:\\users\\dell\\anaconda3\\lib\\site-packages (from mysql) (2.2.0)\n"
     ]
    }
   ],
   "source": [
    "!pip install mysql"
   ]
  },
  {
   "cell_type": "code",
   "execution_count": 2,
   "id": "087169dc",
   "metadata": {},
   "outputs": [],
   "source": [
    "import mysql.connector #don't name it as mysql.py"
   ]
  },
  {
   "cell_type": "code",
   "execution_count": 3,
   "id": "56d7cc62",
   "metadata": {},
   "outputs": [],
   "source": [
    "import mysql"
   ]
  },
  {
   "cell_type": "code",
   "execution_count": 4,
   "id": "b55b41aa",
   "metadata": {},
   "outputs": [
    {
     "name": "stdout",
     "output_type": "stream",
     "text": [
      "Requirement already satisfied: mysql-connector-python in c:\\users\\dell\\anaconda3\\lib\\site-packages (8.1.0)\n",
      "Requirement already satisfied: protobuf<=4.21.12,>=4.21.1 in c:\\users\\dell\\anaconda3\\lib\\site-packages (from mysql-connector-python) (4.21.12)\n"
     ]
    }
   ],
   "source": [
    "!pip install mysql-connector-python"
   ]
  },
  {
   "cell_type": "code",
   "execution_count": 5,
   "id": "afce7aaf",
   "metadata": {},
   "outputs": [
    {
     "name": "stdout",
     "output_type": "stream",
     "text": [
      "Requirement already satisfied: pyodbc in c:\\users\\dell\\anaconda3\\lib\\site-packages (4.0.34)\n"
     ]
    }
   ],
   "source": [
    "!pip install pyodbc"
   ]
  },
  {
   "cell_type": "code",
   "execution_count": 6,
   "id": "83b526d3",
   "metadata": {},
   "outputs": [],
   "source": [
    "import pyodbc"
   ]
  },
  {
   "cell_type": "code",
   "execution_count": 7,
   "id": "d3308324",
   "metadata": {},
   "outputs": [],
   "source": [
    "import mysql.connector"
   ]
  },
  {
   "cell_type": "code",
   "execution_count": 8,
   "id": "2034a6dd",
   "metadata": {},
   "outputs": [],
   "source": [
    "import mysql"
   ]
  },
  {
   "cell_type": "code",
   "execution_count": 9,
   "id": "85a75047",
   "metadata": {},
   "outputs": [],
   "source": [
    "import mysql.connector"
   ]
  },
  {
   "cell_type": "code",
   "execution_count": 42,
   "id": "7931f5b9",
   "metadata": {},
   "outputs": [
    {
     "data": {
      "text/plain": [
       "<mysql.connector.connection_cext.CMySQLConnection at 0x1966ea7c9a0>"
      ]
     },
     "execution_count": 42,
     "metadata": {},
     "output_type": "execute_result"
    }
   ],
   "source": [
    "mydb = mysql.connector.connect(host=\"localhost\",\n",
    "                      user=\"root\",\n",
    "                      password=\"12345\",\n",
    "                      database=\"db1\")\n",
    "mydb"
   ]
  },
  {
   "cell_type": "code",
   "execution_count": 11,
   "id": "55d62fbc",
   "metadata": {},
   "outputs": [],
   "source": [
    "#!pip uninstall mysql-connector-python"
   ]
  },
  {
   "cell_type": "code",
   "execution_count": 12,
   "id": "5dbdd5f8",
   "metadata": {},
   "outputs": [],
   "source": [
    "#!pip install mysql-connector-python"
   ]
  },
  {
   "cell_type": "code",
   "execution_count": 13,
   "id": "b15f911c",
   "metadata": {},
   "outputs": [],
   "source": [
    "#import pyodbc"
   ]
  },
  {
   "cell_type": "code",
   "execution_count": 14,
   "id": "6400da9d",
   "metadata": {},
   "outputs": [],
   "source": [
    "#import mysql.connector"
   ]
  },
  {
   "cell_type": "code",
   "execution_count": 15,
   "id": "ed59a047",
   "metadata": {},
   "outputs": [
    {
     "ename": "IndentationError",
     "evalue": "unexpected indent (635767463.py, line 2)",
     "output_type": "error",
     "traceback": [
      "\u001b[1;36m  Cell \u001b[1;32mIn[15], line 2\u001b[1;36m\u001b[0m\n\u001b[1;33m    user=\"root\",\u001b[0m\n\u001b[1;37m    ^\u001b[0m\n\u001b[1;31mIndentationError\u001b[0m\u001b[1;31m:\u001b[0m unexpected indent\n"
     ]
    }
   ],
   "source": [
    "#mydb = mysql.connector(host=\"localhost\",\n",
    "                      user=\"root\",\n",
    "                      password=\"12345\",\n",
    "                      database=\"db1\")\n"
   ]
  },
  {
   "cell_type": "code",
   "execution_count": 16,
   "id": "6ca0fe73",
   "metadata": {},
   "outputs": [],
   "source": [
    "#mydb"
   ]
  },
  {
   "cell_type": "code",
   "execution_count": 43,
   "id": "41b7b9e2",
   "metadata": {},
   "outputs": [],
   "source": [
    "#mydb.autocommit = True \n",
    "cursor = mydb.cursor() "
   ]
  },
  {
   "cell_type": "code",
   "execution_count": 44,
   "id": "55fdda1b",
   "metadata": {},
   "outputs": [],
   "source": [
    "#cursor.execute(\"create table faculty(name varchar(60), email varchar(60) )\")\n",
    "cursor.execute(\"insert into faculty(name, email) values('Gishi','gishi@gmail.com')\")\n",
    "mydb.commit()"
   ]
  },
  {
   "cell_type": "code",
   "execution_count": 45,
   "id": "cd242b13",
   "metadata": {},
   "outputs": [],
   "source": [
    "#cursor=mydb.cursor()\n",
    "#cursor.execute(\"create table customer(customer_id int, name varchar(60), email varchar(60), bill int, Primary Key(customer_id))\")"
   ]
  },
  {
   "cell_type": "code",
   "execution_count": 46,
   "id": "c8e5236b",
   "metadata": {},
   "outputs": [
    {
     "name": "stdout",
     "output_type": "stream",
     "text": [
      "('Shaurya', 'shaurya@gmail.com')\n",
      "('Rashmi Rawat', 'rashmi@gmail.com')\n",
      "('Gishi', 'gishi@gmail.com')\n",
      "('Rashmi Rawat', 'rashmi@gmail.com')\n",
      "('divya', 'divya@gmail.com')\n",
      "('shaurya', 'shaurya@gmail.com')\n",
      "('gishi', 'gishi@gmail.com')\n",
      "('rashi', 'rashi@gmail.com')\n",
      "('tanvi', 'tanvi@gmail.com')\n",
      "('tanisha', 'tanisha@gmail.com')\n",
      "('dushyant', 'dushyant@gmail.com')\n",
      "('meenu', 'meenu@gmail.com')\n",
      "('rashika', 'rashika@gmail.com')\n",
      "('Gishi', 'gishi@gmail.com')\n"
     ]
    }
   ],
   "source": [
    "cursor.execute(\"select * from faculty\")\n",
    "for result in cursor.fetchall():\n",
    "    print(result)"
   ]
  },
  {
   "cell_type": "code",
   "execution_count": 28,
   "id": "870f076c",
   "metadata": {},
   "outputs": [
    {
     "name": "stdout",
     "output_type": "stream",
     "text": [
      "('divya', 'gishi@gmail.com')\n",
      "('divya', 'rashmi@gmail.com')\n",
      "('divya', 'rashmi@gmail.com')\n",
      "('divya', 'divya@gmail.com')\n",
      "('divya', 'shaurya@gmail.com')\n"
     ]
    }
   ],
   "source": [
    "cursor.execute(\"update faculty set name='divya'\")\n",
    "mydb.commit()\n",
    "\n",
    "cursor.execute(\"select * from faculty\")\n",
    "for result in cursor.fetchall():\n",
    "    print(result)\n"
   ]
  },
  {
   "cell_type": "code",
   "execution_count": 34,
   "id": "771e3693",
   "metadata": {},
   "outputs": [
    {
     "name": "stdout",
     "output_type": "stream",
     "text": [
      "('Shaurya', 'shaurya@gmail.com')\n",
      "('Rashmi', 'rashmi@gmail.com')\n",
      "('Gishi', 'gishi@gmail.com')\n"
     ]
    }
   ],
   "source": [
    "cursor.execute(\"delete from faculty where name='divya'\")\n",
    "mydb.commit()\n",
    "\n",
    "cursor.execute(\"select * from faculty\")\n",
    "for result in cursor.fetchall():\n",
    "    print(result)\n"
   ]
  },
  {
   "cell_type": "code",
   "execution_count": 36,
   "id": "b55f8f77",
   "metadata": {},
   "outputs": [
    {
     "name": "stdout",
     "output_type": "stream",
     "text": [
      "Name: rashmi\n",
      "email: rashmi@gmail.com\n",
      "Name: divya\n",
      "email: divya@gmail.com\n",
      "Name: shaurya\n",
      "email: shaurya@gmail.com\n",
      "Name: gishi\n",
      "email: gishi@gmail.com\n",
      "Name: rashi\n",
      "email: rashi@gmail.com\n",
      "Name: tanvi\n",
      "email: tanvi@gmail.com\n",
      "Name: tanisha\n",
      "email: tanisha@gmail.com\n",
      "Name: dushyant\n",
      "email: dushyant@gmail.com\n",
      "Name: meenu\n",
      "email: meenu@gmail.com\n",
      "Name: rashika\n",
      "email: rashika@gmail.com\n"
     ]
    },
    {
     "data": {
      "text/plain": [
       "('rashika', 'rashika@gmail.com')"
      ]
     },
     "execution_count": 36,
     "metadata": {},
     "output_type": "execute_result"
    }
   ],
   "source": [
    "vals=[]\n",
    "for index in range(10):\n",
    "    candidate=(input(\"Name: \"),input(\"email: \"))\n",
    "    vals.append(candidate)\n",
    "candidate"
   ]
  },
  {
   "cell_type": "code",
   "execution_count": 37,
   "id": "625337ad",
   "metadata": {},
   "outputs": [
    {
     "data": {
      "text/plain": [
       "[('rashmi', 'rashmi@gmail.com'),\n",
       " ('divya', 'divya@gmail.com'),\n",
       " ('shaurya', 'shaurya@gmail.com'),\n",
       " ('gishi', 'gishi@gmail.com'),\n",
       " ('rashi', 'rashi@gmail.com'),\n",
       " ('tanvi', 'tanvi@gmail.com'),\n",
       " ('tanisha', 'tanisha@gmail.com'),\n",
       " ('dushyant', 'dushyant@gmail.com'),\n",
       " ('meenu', 'meenu@gmail.com'),\n",
       " ('rashika', 'rashika@gmail.com')]"
      ]
     },
     "execution_count": 37,
     "metadata": {},
     "output_type": "execute_result"
    }
   ],
   "source": [
    "vals"
   ]
  },
  {
   "cell_type": "code",
   "execution_count": 39,
   "id": "155321e6",
   "metadata": {},
   "outputs": [],
   "source": [
    "for candidate in vals:\n",
    "    sql='insert into faculty(name,email) values(%s,%s)'\n",
    "    cursor.execute(sql, candidate)\n",
    "    mydb.commit()\n",
    "   "
   ]
  },
  {
   "cell_type": "code",
   "execution_count": 40,
   "id": "48f94c79",
   "metadata": {},
   "outputs": [
    {
     "name": "stdout",
     "output_type": "stream",
     "text": [
      "('Shaurya', 'shaurya@gmail.com')\n",
      "('Rashmi', 'rashmi@gmail.com')\n",
      "('Gishi', 'gishi@gmail.com')\n",
      "('rashmi', 'rashmi@gmail.com')\n",
      "('divya', 'divya@gmail.com')\n",
      "('shaurya', 'shaurya@gmail.com')\n",
      "('gishi', 'gishi@gmail.com')\n",
      "('rashi', 'rashi@gmail.com')\n",
      "('tanvi', 'tanvi@gmail.com')\n",
      "('tanisha', 'tanisha@gmail.com')\n",
      "('dushyant', 'dushyant@gmail.com')\n",
      "('meenu', 'meenu@gmail.com')\n",
      "('rashika', 'rashika@gmail.com')\n"
     ]
    }
   ],
   "source": [
    "cursor.execute(\"select * from faculty\")\n",
    "for result in cursor.fetchall():\n",
    "    print(result)"
   ]
  },
  {
   "cell_type": "code",
   "execution_count": 48,
   "id": "afa4546d",
   "metadata": {},
   "outputs": [
    {
     "name": "stdout",
     "output_type": "stream",
     "text": [
      "('Shaurya', 'shaurya@gmail.com')\n",
      "('Rashmi Rawat', 'rashmi@gmail.com')\n",
      "('Gishi', 'gishi@gmail.com')\n",
      "('Rashmi Rawat', 'rashmi@gmail.com')\n",
      "('divya', 'divya@gmail.com')\n",
      "('shaurya', 'shaurya@gmail.com')\n",
      "('gishi', 'gishi@gmail.com')\n",
      "('rashi', 'rashi@gmail.com')\n",
      "('tanvi', 'tanvi@gmail.com')\n",
      "('tanisha', 'tanisha@gmail.com')\n",
      "('dushyant', 'dushyant@gmail.com')\n",
      "('meenu', 'meenu@gmail.com')\n",
      "('rashika', 'rashika@gmail.com')\n",
      "('Gishi', 'gishi@gmail.com')\n"
     ]
    }
   ],
   "source": [
    "cursor.execute(\"update faculty set name='Rashmi Rawat' where name= 'rashmi'\")\n",
    "mydb.commit()\n",
    "\n",
    "\n",
    "cursor.execute(\"select * from faculty\")\n",
    "for result in cursor.fetchall():\n",
    "    print(result)"
   ]
  },
  {
   "cell_type": "code",
   "execution_count": 49,
   "id": "d321959d",
   "metadata": {},
   "outputs": [
    {
     "name": "stdout",
     "output_type": "stream",
     "text": [
      "('divya', 'divya@gmail.com')\n",
      "('dushyant', 'dushyant@gmail.com')\n",
      "('Gishi', 'gishi@gmail.com')\n",
      "('gishi', 'gishi@gmail.com')\n",
      "('Gishi', 'gishi@gmail.com')\n",
      "('meenu', 'meenu@gmail.com')\n",
      "('rashi', 'rashi@gmail.com')\n",
      "('rashika', 'rashika@gmail.com')\n",
      "('Rashmi Rawat', 'rashmi@gmail.com')\n",
      "('Rashmi Rawat', 'rashmi@gmail.com')\n",
      "('Shaurya', 'shaurya@gmail.com')\n",
      "('shaurya', 'shaurya@gmail.com')\n",
      "('tanisha', 'tanisha@gmail.com')\n",
      "('tanvi', 'tanvi@gmail.com')\n"
     ]
    }
   ],
   "source": [
    "cursor.execute(\"select * from faculty order by name\")\n",
    "for result in cursor.fetchall():\n",
    "    print(result)"
   ]
  },
  {
   "cell_type": "code",
   "execution_count": 50,
   "id": "7f7045d6",
   "metadata": {},
   "outputs": [
    {
     "name": "stdout",
     "output_type": "stream",
     "text": [
      "('tanvi', 'tanvi@gmail.com')\n",
      "('tanisha', 'tanisha@gmail.com')\n",
      "('Shaurya', 'shaurya@gmail.com')\n",
      "('shaurya', 'shaurya@gmail.com')\n",
      "('Rashmi Rawat', 'rashmi@gmail.com')\n",
      "('Rashmi Rawat', 'rashmi@gmail.com')\n",
      "('rashika', 'rashika@gmail.com')\n",
      "('rashi', 'rashi@gmail.com')\n",
      "('meenu', 'meenu@gmail.com')\n",
      "('Gishi', 'gishi@gmail.com')\n",
      "('gishi', 'gishi@gmail.com')\n",
      "('Gishi', 'gishi@gmail.com')\n",
      "('dushyant', 'dushyant@gmail.com')\n",
      "('divya', 'divya@gmail.com')\n"
     ]
    }
   ],
   "source": [
    "cursor.execute(\"select * from faculty order by name DESC\")\n",
    "for result in cursor.fetchall():\n",
    "    print(result)"
   ]
  },
  {
   "cell_type": "code",
   "execution_count": 51,
   "id": "c447ef19",
   "metadata": {},
   "outputs": [],
   "source": [
    "cursor.execute(\"drop table staff1\")"
   ]
  },
  {
   "cell_type": "code",
   "execution_count": 52,
   "id": "18b85c6a",
   "metadata": {},
   "outputs": [
    {
     "name": "stdout",
     "output_type": "stream",
     "text": [
      "('tanvi', 'tanvi@gmail.com')\n",
      "('tanisha', 'tanisha@gmail.com')\n",
      "('Shaurya', 'shaurya@gmail.com')\n",
      "('shaurya', 'shaurya@gmail.com')\n",
      "('Rashmi Rawat', 'rashmi@gmail.com')\n",
      "('Rashmi Rawat', 'rashmi@gmail.com')\n",
      "('rashika', 'rashika@gmail.com')\n"
     ]
    }
   ],
   "source": [
    "cursor.execute(\"select * from faculty order by name DESC limit 7\")\n",
    "for result in cursor.fetchall():\n",
    "    print(result)"
   ]
  },
  {
   "cell_type": "code",
   "execution_count": 53,
   "id": "d3e6b043",
   "metadata": {},
   "outputs": [
    {
     "name": "stdout",
     "output_type": "stream",
     "text": [
      "('tanvi', 'tanvi@gmail.com')\n",
      "('tanisha', 'tanisha@gmail.com')\n",
      "('Shaurya', 'shaurya@gmail.com')\n",
      "('shaurya', 'shaurya@gmail.com')\n",
      "('Rashmi Rawat', 'rashmi@gmail.com')\n",
      "('Rashmi Rawat', 'rashmi@gmail.com')\n",
      "('rashika', 'rashika@gmail.com')\n",
      "('rashi', 'rashi@gmail.com')\n",
      "('meenu', 'meenu@gmail.com')\n",
      "('Gishi', 'gishi@gmail.com')\n",
      "('gishi', 'gishi@gmail.com')\n",
      "('Gishi', 'gishi@gmail.com')\n",
      "('dushyant', 'dushyant@gmail.com')\n",
      "('divya', 'divya@gmail.com')\n"
     ]
    }
   ],
   "source": [
    "cursor.execute(\"select * from faculty order by name DESC limit 70\")\n",
    "for result in cursor.fetchall():\n",
    "    print(result)"
   ]
  },
  {
   "cell_type": "code",
   "execution_count": 55,
   "id": "63ea6a1c",
   "metadata": {},
   "outputs": [
    {
     "name": "stdout",
     "output_type": "stream",
     "text": [
      "('Shaurya', 'shaurya@gmail.com')\n",
      "('shaurya', 'shaurya@gmail.com')\n",
      "('Rashmi Rawat', 'rashmi@gmail.com')\n",
      "('Rashmi Rawat', 'rashmi@gmail.com')\n",
      "('rashika', 'rashika@gmail.com')\n",
      "('rashi', 'rashi@gmail.com')\n",
      "('meenu', 'meenu@gmail.com')\n"
     ]
    }
   ],
   "source": [
    "cursor.execute(\"select * from faculty order by name DESC limit 7 offset 2\")\n",
    "for result in cursor.fetchall():\n",
    "    print(result)"
   ]
  },
  {
   "cell_type": "code",
   "execution_count": null,
   "id": "cc82a48c",
   "metadata": {},
   "outputs": [],
   "source": [
    "ACID--->\n",
    "A----> Atomicity\n",
    "C----> Consistency\n",
    "I----> Isolation\n",
    "D----> Durability"
   ]
  }
 ],
 "metadata": {
  "kernelspec": {
   "display_name": "Python 3 (ipykernel)",
   "language": "python",
   "name": "python3"
  },
  "language_info": {
   "codemirror_mode": {
    "name": "ipython",
    "version": 3
   },
   "file_extension": ".py",
   "mimetype": "text/x-python",
   "name": "python",
   "nbconvert_exporter": "python",
   "pygments_lexer": "ipython3",
   "version": "3.10.9"
  }
 },
 "nbformat": 4,
 "nbformat_minor": 5
}
