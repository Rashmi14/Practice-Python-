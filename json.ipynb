{
 "cells": [
  {
   "cell_type": "code",
   "execution_count": 1,
   "id": "c70f051f",
   "metadata": {},
   "outputs": [],
   "source": [
    "#json(javascript object notation)"
   ]
  },
  {
   "cell_type": "code",
   "execution_count": 24,
   "id": "75ed164e",
   "metadata": {},
   "outputs": [],
   "source": [
    "#Converting json string to python object"
   ]
  },
  {
   "cell_type": "code",
   "execution_count": 25,
   "id": "f365066b",
   "metadata": {},
   "outputs": [
    {
     "data": {
      "text/plain": [
       "{'article': [{'id': '10', 'player': 'Virat', 'type': 'Batsman'},\n",
       "  {'id': '20', 'player': 'Dhoni', 'type': 'Wicketkeeper'}]}"
      ]
     },
     "execution_count": 25,
     "metadata": {},
     "output_type": "execute_result"
    }
   ],
   "source": [
    "{\n",
    "    \"article\":[\n",
    "{ \"id\":\"10\",\n",
    "  \"player\":\"Virat\",\n",
    "  \"type\":\"Batsman\"\n",
    "},\n",
    "{\n",
    "  \"id\":\"20\",\n",
    "  \"player\":\"Dhoni\",\n",
    "  \"type\":\"Wicketkeeper\"\n",
    "}\n",
    "]}"
   ]
  },
  {
   "cell_type": "code",
   "execution_count": 26,
   "id": "d753757d",
   "metadata": {},
   "outputs": [],
   "source": [
    "import json"
   ]
  },
  {
   "cell_type": "code",
   "execution_count": 27,
   "id": "9defd5fa",
   "metadata": {},
   "outputs": [],
   "source": [
    "my_data=\"\"\"{\"article\":[\n",
    "{ \"id\":\"10\",\n",
    "  \"player\":\"Virat\",\n",
    "  \"type\":\"Batsman\"\n",
    "},\n",
    "{\n",
    "  \"id\":\"20\",\n",
    "  \"player\":\"Dhoni\",\n",
    "  \"type\":\"Wicketkeeper\"\n",
    "}\n",
    "]}\"\"\""
   ]
  },
  {
   "cell_type": "code",
   "execution_count": 28,
   "id": "7dc56dad",
   "metadata": {},
   "outputs": [
    {
     "data": {
      "text/plain": [
       "'{\"article\":[\\n{ \"id\":\"10\",\\n  \"player\":\"Virat\",\\n  \"type\":\"Batsman\"\\n},\\n{\\n  \"id\":\"20\",\\n  \"player\":\"Dhoni\",\\n  \"type\":\"Wicketkeeper\"\\n}\\n]}'"
      ]
     },
     "execution_count": 28,
     "metadata": {},
     "output_type": "execute_result"
    }
   ],
   "source": [
    "my_data"
   ]
  },
  {
   "cell_type": "code",
   "execution_count": 29,
   "id": "239d858f",
   "metadata": {},
   "outputs": [],
   "source": [
    "to_data = json.loads(my_data)# convert json string to python object"
   ]
  },
  {
   "cell_type": "code",
   "execution_count": 30,
   "id": "2a9ad53d",
   "metadata": {},
   "outputs": [
    {
     "data": {
      "text/plain": [
       "{'article': [{'id': '10', 'player': 'Virat', 'type': 'Batsman'},\n",
       "  {'id': '20', 'player': 'Dhoni', 'type': 'Wicketkeeper'}]}"
      ]
     },
     "execution_count": 30,
     "metadata": {},
     "output_type": "execute_result"
    }
   ],
   "source": [
    "to_data"
   ]
  },
  {
   "cell_type": "code",
   "execution_count": 31,
   "id": "683e998d",
   "metadata": {},
   "outputs": [
    {
     "data": {
      "text/plain": [
       "[{'id': '10', 'player': 'Virat', 'type': 'Batsman'},\n",
       " {'id': '20', 'player': 'Dhoni', 'type': 'Wicketkeeper'}]"
      ]
     },
     "execution_count": 31,
     "metadata": {},
     "output_type": "execute_result"
    }
   ],
   "source": [
    "to_data['article']"
   ]
  },
  {
   "cell_type": "code",
   "execution_count": null,
   "id": "8f3e69a8",
   "metadata": {},
   "outputs": [],
   "source": []
  },
  {
   "cell_type": "code",
   "execution_count": 32,
   "id": "2bc55e69",
   "metadata": {},
   "outputs": [],
   "source": [
    "#Converting python object to json string(Reverse)"
   ]
  },
  {
   "cell_type": "code",
   "execution_count": 33,
   "id": "3e8c1518",
   "metadata": {},
   "outputs": [],
   "source": [
    "another_data={'cricket':\"Indian cricket\",'name':\"test_team\"}"
   ]
  },
  {
   "cell_type": "code",
   "execution_count": 34,
   "id": "589d6de5",
   "metadata": {},
   "outputs": [
    {
     "data": {
      "text/plain": [
       "{'cricket': 'Indian cricket', 'name': 'test_team'}"
      ]
     },
     "execution_count": 34,
     "metadata": {},
     "output_type": "execute_result"
    }
   ],
   "source": [
    "another_data"
   ]
  },
  {
   "cell_type": "code",
   "execution_count": 35,
   "id": "7f0b01c9",
   "metadata": {},
   "outputs": [],
   "source": [
    "to_json=json.dumps(another_data)#Convert python object to json string"
   ]
  },
  {
   "cell_type": "code",
   "execution_count": 36,
   "id": "39d477a3",
   "metadata": {},
   "outputs": [
    {
     "data": {
      "text/plain": [
       "'{\"cricket\": \"Indian cricket\", \"name\": \"test_team\"}'"
      ]
     },
     "execution_count": 36,
     "metadata": {},
     "output_type": "execute_result"
    }
   ],
   "source": [
    "to_json"
   ]
  },
  {
   "cell_type": "code",
   "execution_count": 37,
   "id": "c5b3797c",
   "metadata": {},
   "outputs": [],
   "source": [
    "with open(\"cricket_6.json\",'w') as file:\n",
    "    json.dump(to_data,file)#to write the python object to the file use dump\n"
   ]
  },
  {
   "cell_type": "code",
   "execution_count": 38,
   "id": "94e553b0",
   "metadata": {},
   "outputs": [
    {
     "name": "stdout",
     "output_type": "stream",
     "text": [
      "{'article': [{'id': '10', 'player': 'Virat', 'type': 'Batsman'}, {'id': '20', 'player': 'Dhoni', 'type': 'Wicketkeeper'}]}\n"
     ]
    }
   ],
   "source": [
    "with open(\"cricket_6.json\",'r') as file:\n",
    "    json_data=json.load(file)\n",
    "    print(json_data)\n"
   ]
  },
  {
   "cell_type": "code",
   "execution_count": 39,
   "id": "ccc19d23",
   "metadata": {},
   "outputs": [],
   "source": [
    "#diff dumps and dump\n",
    "#diff loads and load\n",
    "# dumps-Covert python object to json string, dump-in file from python to json-write\n",
    "#loads-Convert json string to python object, load- in file from json to python-read"
   ]
  },
  {
   "cell_type": "code",
   "execution_count": null,
   "id": "9fdd55e3",
   "metadata": {},
   "outputs": [],
   "source": []
  }
 ],
 "metadata": {
  "kernelspec": {
   "display_name": "Python 3 (ipykernel)",
   "language": "python",
   "name": "python3"
  },
  "language_info": {
   "codemirror_mode": {
    "name": "ipython",
    "version": 3
   },
   "file_extension": ".py",
   "mimetype": "text/x-python",
   "name": "python",
   "nbconvert_exporter": "python",
   "pygments_lexer": "ipython3",
   "version": "3.10.9"
  }
 },
 "nbformat": 4,
 "nbformat_minor": 5
}
