{
 "cells": [
  {
   "cell_type": "code",
   "execution_count": 1,
   "id": "45c3ed5f",
   "metadata": {},
   "outputs": [
    {
     "name": "stdout",
     "output_type": "stream",
     "text": [
      "2\n",
      "Even\n"
     ]
    }
   ],
   "source": [
    "a=int(input())\n",
    "if a%2==0:\n",
    "    print(\"Even\")\n",
    "else:\n",
    "    print(\"Odd\")"
   ]
  },
  {
   "cell_type": "code",
   "execution_count": 2,
   "id": "23af71f2",
   "metadata": {},
   "outputs": [
    {
     "name": "stdout",
     "output_type": "stream",
     "text": [
      "2\n",
      "12.57\n"
     ]
    }
   ],
   "source": [
    "import math\n",
    "r=float(input())\n",
    "C=2*(math.pi)*r\n",
    "print(\"%.2f\"%C)\n"
   ]
  },
  {
   "cell_type": "code",
   "execution_count": 4,
   "id": "bb218cea",
   "metadata": {},
   "outputs": [
    {
     "name": "stdout",
     "output_type": "stream",
     "text": [
      "5\n",
      "120\n"
     ]
    }
   ],
   "source": [
    "def factorial(n):\n",
    "    return 1 if (n==1 or n==0) else n * factorial(n - 1)\n",
    "num = int(input())\n",
    "print(factorial(num))"
   ]
  },
  {
   "cell_type": "code",
   "execution_count": 5,
   "id": "8f3056d2",
   "metadata": {},
   "outputs": [
    {
     "name": "stdout",
     "output_type": "stream",
     "text": [
      "4\n",
      "4\n",
      "4\n",
      "4\n",
      "4\n",
      "4\n"
     ]
    }
   ],
   "source": [
    "N=int(input())\n",
    "for i in range(5):\n",
    "    print(N)"
   ]
  },
  {
   "cell_type": "code",
   "execution_count": 6,
   "id": "f0b3cdcd",
   "metadata": {},
   "outputs": [
    {
     "name": "stdout",
     "output_type": "stream",
     "text": [
      "23 1\n",
      "1\n"
     ]
    }
   ],
   "source": [
    "def minimum(a, b):\n",
    "     \n",
    "    if a <= b:\n",
    "        return a\n",
    "    else:\n",
    "        return b\n",
    "a,b = input().split() #taking multiple inputs using split in one row\n",
    "print(minimum(a, b))"
   ]
  },
  {
   "cell_type": "code",
   "execution_count": 8,
   "id": "81dfab1f",
   "metadata": {},
   "outputs": [
    {
     "name": "stdout",
     "output_type": "stream",
     "text": [
      "8\n",
      "64\n"
     ]
    }
   ],
   "source": [
    "N=int(input())\n",
    "if(N<0):\n",
    "    print(\"Error\")\n",
    "elif N==0:\n",
    "    print(N)\n",
    "else:\n",
    "    num=N*N \n",
    "    print(num)"
   ]
  },
  {
   "cell_type": "code",
   "execution_count": 10,
   "id": "3401f341",
   "metadata": {},
   "outputs": [
    {
     "name": "stdout",
     "output_type": "stream",
     "text": [
      "2020\n",
      "Y\n"
     ]
    }
   ],
   "source": [
    "A=int(input())\n",
    "if(A%4==0 and A%100 !=0):\n",
    "    print(\"Y\")\n",
    "else:\n",
    "    print(\"N\")"
   ]
  },
  {
   "cell_type": "code",
   "execution_count": 11,
   "id": "2783a10b",
   "metadata": {},
   "outputs": [
    {
     "name": "stdout",
     "output_type": "stream",
     "text": [
      "1000 2 5\n",
      "100.00\n"
     ]
    }
   ],
   "source": [
    "def simple_interest(P,R,T):\n",
    "    SI=(P*R*T)/100\n",
    "    return round(SI,2)\n",
    "input_values=input().split()\n",
    "P=float(input_values[0])\n",
    "R=float(input_values[1])\n",
    "T=float(input_values[2])\n",
    "result=simple_interest(P,R,T)\n",
    "print(\"%.2f\"%result)\n"
   ]
  },
  {
   "cell_type": "code",
   "execution_count": 15,
   "id": "b631fc50",
   "metadata": {},
   "outputs": [
    {
     "name": "stdout",
     "output_type": "stream",
     "text": [
      "13\n",
      "Error\n"
     ]
    }
   ],
   "source": [
    "def days_in_month(month_number):\n",
    "    if month_number==2:\n",
    "        return 28\n",
    "    elif month_number in [4,6,9,11]:\n",
    "        return 30\n",
    "    elif month_number in [1,3,5,7,8,10,12]:\n",
    "        return 31\n",
    "    else:\n",
    "        return \"Error\"\n",
    "month_number=int(input())  \n",
    "b=days_in_month(month_number)\n",
    "print(b)"
   ]
  },
  {
   "cell_type": "code",
   "execution_count": 16,
   "id": "6a722f5e",
   "metadata": {},
   "outputs": [
    {
     "name": "stdout",
     "output_type": "stream",
     "text": [
      "5\n",
      "1\n",
      "2\n",
      "3\n",
      "4\n",
      "5\n"
     ]
    }
   ],
   "source": [
    "def num(n):\n",
    "    for i in range(1,n+1):\n",
    "        print(i)\n",
    "n=int(input())\n",
    "num(n)"
   ]
  },
  {
   "cell_type": "code",
   "execution_count": 20,
   "id": "23e85476",
   "metadata": {},
   "outputs": [
    {
     "name": "stdout",
     "output_type": "stream",
     "text": [
      "10\n",
      "10\n",
      "9\n",
      "8\n",
      "7\n",
      "6\n",
      "5\n",
      "4\n",
      "3\n",
      "2\n",
      "1\n"
     ]
    }
   ],
   "source": [
    "def num(n):\n",
    "    for i in range(n,0,-1):\n",
    "        print(i)\n",
    "n=int(input())\n",
    "num(n)"
   ]
  },
  {
   "cell_type": "code",
   "execution_count": 22,
   "id": "5b5f009d",
   "metadata": {},
   "outputs": [
    {
     "name": "stdout",
     "output_type": "stream",
     "text": [
      "1\n",
      "9 "
     ]
    }
   ],
   "source": [
    "def table_9(n):\n",
    "    if n==0:\n",
    "        print(\"NULL\")\n",
    "    else:\n",
    "        for i in range(1,n+1):\n",
    "            print(9*i, end=\" \")\n",
    "n=int(input())\n",
    "table_9(n)"
   ]
  },
  {
   "cell_type": "code",
   "execution_count": 23,
   "id": "045bbf82",
   "metadata": {},
   "outputs": [
    {
     "name": "stdout",
     "output_type": "stream",
     "text": [
      "0\n",
      "NULL\n"
     ]
    }
   ],
   "source": [
    "def table_9(n):\n",
    "    if n==0:\n",
    "        print(\"NULL\")\n",
    "    else:\n",
    "        for i in range(1,n+1):\n",
    "            print(9*i, end=\" \")\n",
    "n=int(input())\n",
    "table_9(n)"
   ]
  },
  {
   "cell_type": "code",
   "execution_count": null,
   "id": "50591f6e",
   "metadata": {},
   "outputs": [],
   "source": []
  }
 ],
 "metadata": {
  "kernelspec": {
   "display_name": "Python 3 (ipykernel)",
   "language": "python",
   "name": "python3"
  },
  "language_info": {
   "codemirror_mode": {
    "name": "ipython",
    "version": 3
   },
   "file_extension": ".py",
   "mimetype": "text/x-python",
   "name": "python",
   "nbconvert_exporter": "python",
   "pygments_lexer": "ipython3",
   "version": "3.10.9"
  }
 },
 "nbformat": 4,
 "nbformat_minor": 5
}
